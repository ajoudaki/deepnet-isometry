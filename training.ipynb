{
 "cells": [
  {
   "cell_type": "code",
   "execution_count": 2,
   "metadata": {
    "colab": {
     "base_uri": "https://localhost:8080/",
     "height": 384
    },
    "id": "BIeVZWfLpSsT",
    "outputId": "801a9ed7-5ef6-4578-a615-b0f990d261b1"
   },
   "outputs": [],
   "source": [
    "from itertools import product\n",
    "import torch\n",
    "import tqdm\n",
    "import math\n",
    "import torch.nn as nn\n",
    "import torch.optim as optim\n",
    "from torchvision import datasets, transforms\n",
    "from torch.utils.data import DataLoader\n",
    "import pandas as pd\n",
    "import matplotlib.pyplot as plt\n",
    "import seaborn as sns\n",
    "\n",
    "from utils import variance_norms, isometry_gap, dataset_configs\n",
    "\n",
    "\n",
    "# Define the MLP model with layer normalization\n",
    "class MLP(nn.Module):\n",
    "    def __init__(self, input_size, hidden_sizes, num_classes, activation, normalization, **kwargs):\n",
    "        super(MLP, self).__init__()\n",
    "        if normalization == 'LN':\n",
    "            self.norm = nn.LayerNorm\n",
    "        elif normalization == 'BN':\n",
    "            self.norm = nn.BatchNorm1d\n",
    "        elif normalization == 'None':\n",
    "            self.norm = nn.Identity\n",
    "        if not isinstance(input_size, int):\n",
    "            p = 1\n",
    "            for s in input_size:\n",
    "                p *= s\n",
    "            input_size = p\n",
    "\n",
    "        self.layers = nn.Sequential()\n",
    "        hidden_sizes = [input_size] + hidden_sizes + [num_classes]\n",
    "        num_layers = len(hidden_sizes)\n",
    "        # self.layers.add_module('fc-0', nn.Linear(input_size, hidden_size))\n",
    "        # self.layers.add_module('norm-0', self.norm(hidden_size))\n",
    "\n",
    "        for i, (h1,h2) in enumerate(zip(hidden_sizes[:-1],hidden_sizes[1:])):\n",
    "            self.layers.add_module(f'act-{i}', getattr(nn, activation)())\n",
    "            self.layers.add_module(f'norm-{i}', self.norm((h1)))\n",
    "            self.layers.add_module(f'fc-{i}', nn.Linear(h1, h2))\n",
    "\n",
    "        # self.layers.add_module(f'fc-{num_layers - 1}', nn.Linear(hidden_size, num_classes))\n",
    "        self.apply(self.init_weights)\n",
    "\n",
    "    def init_weights(self, layer):\n",
    "        if isinstance(layer, nn.Linear):\n",
    "            std = 1 / math.sqrt(layer.weight.size(1))\n",
    "            nn.init.normal_(layer.weight, mean=0, std=std)\n",
    "\n",
    "    def forward(self, x):\n",
    "        x = x.view(x.size(0), -1)\n",
    "        hidden_layers = []\n",
    "        for i, (name, layer) in enumerate(self.layers.named_children()):\n",
    "            x = layer(x)\n",
    "            hidden_layers.append((name, x))\n",
    "        output = x\n",
    "        return output, hidden_layers\n",
    "\n",
    "class CNN(nn.Module):\n",
    "    def __init__(self, input_size, conv_channels, fc_layers, num_classes, activation, normalization, **kwargs):\n",
    "        super(CNN, self).__init__()\n",
    "\n",
    "        if normalization == 'LN':\n",
    "            self.norm = nn.LayerNorm\n",
    "        elif normalization == 'None':\n",
    "            self.norm = nn.Identity\n",
    "\n",
    "        self.layers = nn.Sequential()\n",
    "\n",
    "        # Convolutional layers\n",
    "        in_channels = input_size[2]\n",
    "        for i, out_channels in enumerate(conv_channels):\n",
    "            self.layers.add_module(f'conv-{i}', nn.Conv2d(in_channels, out_channels, kernel_size=3, stride=1, padding=1))\n",
    "            self.layers.add_module(f'norm-{i}', self.norm((out_channels, input_size[0] // (2 ** i), input_size[1] // (2 ** i))))\n",
    "            self.layers.add_module(f'act-{i}', getattr(nn, activation)())\n",
    "            self.layers.add_module(f'pool-{i}', nn.MaxPool2d(kernel_size=2, stride=2))\n",
    "            in_channels = out_channels\n",
    "\n",
    "        # Flatten layer\n",
    "        self.layers.add_module('flatten', nn.Flatten())\n",
    "\n",
    "        # Fully connected layers\n",
    "        fc_input_size = conv_channels[-1] * input_size[0] // (2 ** len(conv_channels)) * input_size[1] // (2 ** len(conv_channels))\n",
    "        for i in range(len(fc_layers)):\n",
    "            self.layers.add_module(f'fc-{i}', nn.Linear(fc_input_size, fc_layers[i]))\n",
    "            self.layers.add_module(f'norm-fc-{i}', self.norm(fc_layers[i]))\n",
    "            self.layers.add_module(f'act-fc-{i}', getattr(nn, activation)())\n",
    "            fc_input_size = fc_layers[i]\n",
    "\n",
    "        # Output layer\n",
    "        self.layers.add_module(f'fc-out', nn.Linear(fc_layers[-1], num_classes))\n",
    "\n",
    "    def forward(self, x):\n",
    "        hidden_layers = []\n",
    "        for i, (name, layer) in enumerate(self.layers.named_children()):\n",
    "            x = layer(x)\n",
    "            hidden_layers.append((name, x))\n",
    "        output = x\n",
    "        return output, hidden_layers\n",
    "\n",
    "\n",
    "def train_model(model, train_loader, criterion, optimizer, device):\n",
    "    model.train()\n",
    "    for images, labels in train_loader:\n",
    "        images = images.to(device)\n",
    "        labels = labels.to(device)\n",
    "\n",
    "        outputs, hidden = model(images)\n",
    "        loss = criterion(outputs, labels)\n",
    "\n",
    "        optimizer.zero_grad()\n",
    "        loss.backward()\n",
    "        optimizer.step()\n",
    "    return loss\n",
    "\n",
    "\n",
    "def evaluate_model(model, data_loader, criterion, device):\n",
    "    model.eval()\n",
    "    total = 0\n",
    "    correct = 0\n",
    "    with torch.no_grad():\n",
    "        for images, labels in data_loader:\n",
    "            images = images.to(device)\n",
    "            labels = labels.to(device)\n",
    "\n",
    "            outputs, hidden = model(images)\n",
    "            loss = criterion(outputs, labels)\n",
    "            _, predicted = torch.max(outputs.data, 1)\n",
    "            total += labels.size(0)\n",
    "            correct += (predicted == labels).sum().item()\n",
    "\n",
    "    return correct / total\n",
    "\n",
    "# h must be n x d, where d >= n\n",
    "def isometry_gap(h, epsilon = 0, reduce_mean = False):\n",
    "    if reduce_mean:\n",
    "        h = h - h.mean(dim=1,keepdim=True)\n",
    "    G = h @ h.t()\n",
    "    vals = torch.linalg.eigvalsh(G) + epsilon\n",
    "    log_vals = torch.log(vals)\n",
    "    mean_log_vals = torch.mean(log_vals)\n",
    "    log_mean_vals = torch.log(torch.mean(vals))\n",
    "    iso_gap = log_mean_vals - mean_log_vals\n",
    "    return iso_gap\n",
    "\n",
    "def variance_norms(tensor,reduce_mean=False, dim=0):\n",
    "    if reduce_mean:\n",
    "        tensor = tensor - tensor.mean(dim=dim,keepdim=True)\n",
    "    row_norms = torch.norm(tensor, dim=dim)  # Compute the norms of each row\n",
    "    mean_norm = torch.mean(row_norms)  # Compute the mean norm\n",
    "    var_norm = torch.var(row_norms)  # Compute the variance of norms\n",
    "    return var_norm / mean_norm**2\n",
    "\n",
    "def run_experiment(config):\n",
    "    def record_results(model, loader, df, stage, num_batches = 5):\n",
    "        # Record results\n",
    "        for i, (images, labels) in enumerate(loader):\n",
    "            if i > num_batches:\n",
    "                break\n",
    "            images = images.to(device)\n",
    "            labels = labels.to(device)\n",
    "\n",
    "            outputs, hidden = model(images)\n",
    "            loss = criterion(outputs, labels)\n",
    "            _, predicted = torch.max(outputs.data, 1)\n",
    "            for li, (l, h) in enumerate(hidden):\n",
    "                h = h.flatten(1)\n",
    "                ig = isometry_gap(h, reduce_mean=True, epsilon=1e-8).item()\n",
    "                nb = variance_norms(h, reduce_mean=True, ).item()\n",
    "                df.append({**config,\n",
    "                    'l': li,\n",
    "                    'layer': l,\n",
    "                    'iso_gap': ig,\n",
    "                    'norm_bias': nb,\n",
    "                    'stage': stage,\n",
    "                    'loss': loss.item(),\n",
    "                    'accuracy': (predicted == labels).sum().item() / len(labels),\n",
    "                    'epoch': epoch,\n",
    "                    'i': i\n",
    "                })\n",
    "\n",
    "    # Data preprocessing\n",
    "    ds_config = dataset_configs[config['dataset']]\n",
    "    transform = ds_config['transform']\n",
    "    config['input_size'] = ds_config['input_size']\n",
    "    config['num_classes'] = ds_config['num_classes']\n",
    "\n",
    "    train_dataset = getattr(datasets, config['dataset'])(root='./data', train=True, transform=transform, download=True)\n",
    "    test_dataset = getattr(datasets, config['dataset'])(root='./data', train=False, transform=transform, download=True)\n",
    "\n",
    "    train_loader = DataLoader(dataset=train_dataset, batch_size=config['batch_size'], shuffle=True)\n",
    "    test_loader = DataLoader(dataset=test_dataset, batch_size=config['batch_size'], shuffle=False)\n",
    "\n",
    "    # Create the model, loss function, and optimizer\n",
    "    device = torch.device('cuda:1' if torch.cuda.is_available() else 'cpu')\n",
    "\n",
    "    df = []\n",
    "    models = {\n",
    "        'CNN': CNN,\n",
    "        'MLP': MLP,\n",
    "    }\n",
    "    model = models[config['model']](**config).to(device)\n",
    "    criterion = nn.CrossEntropyLoss()\n",
    "    optimizer = optim.SGD(model.parameters(), lr=config['learning_rate'])\n",
    "\n",
    "    for epoch in tqdm.trange(config['num_epochs']):\n",
    "        if epoch > 0:\n",
    "            loss = train_model(model, train_loader, criterion, optimizer, device)\n",
    "            print(f'Epoch [{epoch + 1}/{config[\"num_epochs\"]}], Train Loss: {loss.item():.4f}')\n",
    "        record_results(model, train_loader, df, 'train')\n",
    "\n",
    "        # Evaluate the model on test data\n",
    "        accuracy = evaluate_model(model, test_loader, criterion, device)\n",
    "        print(f'Test Accuracy of the model on the 10000 test images: {100 * accuracy:.2f}%')\n",
    "        record_results(model, test_loader, df, 'test')\n",
    "\n",
    "    df = pd.DataFrame(df)\n",
    "    return df\n",
    "\n",
    "\n",
    "def generate_configs(config_grid):\n",
    "    config_list = list(product(*config_grid.values()))\n",
    "    config_dicts = []\n",
    "    for config_tuple in config_list:\n",
    "        config_dict = dict(zip(config_grid.keys(), config_tuple))\n",
    "        config_dicts.append(config_dict)\n",
    "    return config_dicts\n",
    "\n",
    "\n",
    "\n",
    "def compute_beta(act):\n",
    "    x = torch.randn(1000000)\n",
    "    c0 = act(x).mean()\n",
    "    c1 = (act(x)*x).mean()\n",
    "    csum2 = (act(x)**2).mean()\n",
    "    beta0 = 2 - c1**2 / (csum2 - c0**2)\n",
    "    # c0, c1, csum2, beta0\n",
    "    return beta0.item()\n",
    "\n",
    "def run_experiment_grid(config_grid):\n",
    "    # Generate all possible configurations from the config grid\n",
    "    config_list = generate_configs(config_grid)\n",
    "\n",
    "    # Run the experiments for each config\n",
    "    all_results_df = []\n",
    "    for config in config_list:\n",
    "        print(f\"Running experiment for config: {config}\")\n",
    "        results_df = run_experiment(config)\n",
    "        all_results_df.append(results_df)\n",
    "\n",
    "    # Concatenate the results of all experiments into a single DataFrame\n",
    "    final_results_df = pd.concat(all_results_df, ignore_index=True)\n",
    "    final_results_df['beta'] = 0\n",
    "    for act in final_results_df.activation.unique():\n",
    "        F = getattr(nn, act)()\n",
    "        beta = compute_beta(F)\n",
    "        final_results_df.loc[final_results_df.activation==act, 'beta'] = beta\n",
    "    final_results_df['mlp_shape'] = final_results_df.apply(lambda x: str(x.hidden_sizes), axis=1)\n",
    "    return final_results_df\n",
    "\n",
    "def gen_config_grid(**kwargs):\n",
    "    # Define the default config grid with lists of possible values for each parameter\n",
    "    config_grid = {\n",
    "        'model': ['MLP'],\n",
    "        'dataset': ['CIFAR10','CIFAR100'],\n",
    "        'hidden_sizes': [[1000]*10],\n",
    "        'conv_channels': [[32, 64, 128, 256]],  # Two convolutional layers with 32 and 64 filters respectively\n",
    "        'fc_layers': [[512]],  # One fully connected layer with 128 units\n",
    "        'batch_size': [512],\n",
    "        'learning_rate': [0.01,],\n",
    "        'num_epochs': [10],\n",
    "        'rerun': range(1),\n",
    "        'activation': [\"ReLU\", \"Identity\",\"PReLU\", \"Tanh\",\"SELU\",\"SiLU\", \"ELU\", \"GELU\"],\n",
    "        'normalization': [\"LN\",],\n",
    "    }\n",
    "    for k,v in kwargs.items():\n",
    "        assert( k in config_grid )\n",
    "        config_grid[k] = v\n",
    "    return config_grid\n",
    "\n",
    "sns.set_theme(style=\"white\")\n",
    "\n"
   ]
  },
  {
   "cell_type": "code",
   "execution_count": 4,
   "metadata": {
    "id": "Ns_hPhM_pTYl"
   },
   "outputs": [
    {
     "name": "stdout",
     "output_type": "stream",
     "text": [
      "Running experiment for config: {'model': 'MLP', 'dataset': 'MNIST', 'hidden_sizes': [1000, 1000, 1000, 1000, 1000], 'conv_channels': [32, 64, 128, 256], 'fc_layers': [512], 'batch_size': 100, 'learning_rate': 0.01, 'num_epochs': 1, 'rerun': 0, 'activation': 'ReLU', 'normalization': 'LN'}\n"
     ]
    },
    {
     "name": "stderr",
     "output_type": "stream",
     "text": [
      "  0%|          | 0/1 [00:00<?, ?it/s]"
     ]
    },
    {
     "name": "stdout",
     "output_type": "stream",
     "text": [
      "Test Accuracy of the model on the 10000 test images: 8.43%\n"
     ]
    },
    {
     "name": "stderr",
     "output_type": "stream",
     "text": [
      "100%|██████████| 1/1 [00:01<00:00,  1.70s/it]\n"
     ]
    },
    {
     "name": "stdout",
     "output_type": "stream",
     "text": [
      "Running experiment for config: {'model': 'MLP', 'dataset': 'MNIST', 'hidden_sizes': [512, 1024, 2048, 4096, 8192], 'conv_channels': [32, 64, 128, 256], 'fc_layers': [512], 'batch_size': 100, 'learning_rate': 0.01, 'num_epochs': 1, 'rerun': 0, 'activation': 'ReLU', 'normalization': 'LN'}\n"
     ]
    },
    {
     "name": "stderr",
     "output_type": "stream",
     "text": [
      "  0%|          | 0/1 [00:00<?, ?it/s]"
     ]
    },
    {
     "name": "stdout",
     "output_type": "stream",
     "text": [
      "Test Accuracy of the model on the 10000 test images: 10.13%\n"
     ]
    },
    {
     "name": "stderr",
     "output_type": "stream",
     "text": [
      "100%|██████████| 1/1 [00:01<00:00,  1.75s/it]\n"
     ]
    },
    {
     "name": "stdout",
     "output_type": "stream",
     "text": [
      "Running experiment for config: {'model': 'MLP', 'dataset': 'MNIST', 'hidden_sizes': [8192, 4096, 2048, 1024, 512], 'conv_channels': [32, 64, 128, 256], 'fc_layers': [512], 'batch_size': 100, 'learning_rate': 0.01, 'num_epochs': 1, 'rerun': 0, 'activation': 'ReLU', 'normalization': 'LN'}\n"
     ]
    },
    {
     "name": "stderr",
     "output_type": "stream",
     "text": [
      "  0%|          | 0/1 [00:00<?, ?it/s]"
     ]
    },
    {
     "name": "stdout",
     "output_type": "stream",
     "text": [
      "Test Accuracy of the model on the 10000 test images: 12.69%\n"
     ]
    },
    {
     "name": "stderr",
     "output_type": "stream",
     "text": [
      "100%|██████████| 1/1 [00:01<00:00,  1.72s/it]\n"
     ]
    },
    {
     "name": "stdout",
     "output_type": "stream",
     "text": [
      "Running experiment for config: {'model': 'MLP', 'dataset': 'MNIST', 'hidden_sizes': [1024, 2048, 1024, 2048, 1024], 'conv_channels': [32, 64, 128, 256], 'fc_layers': [512], 'batch_size': 100, 'learning_rate': 0.01, 'num_epochs': 1, 'rerun': 0, 'activation': 'ReLU', 'normalization': 'LN'}\n"
     ]
    },
    {
     "name": "stderr",
     "output_type": "stream",
     "text": [
      "  0%|          | 0/1 [00:00<?, ?it/s]"
     ]
    },
    {
     "name": "stdout",
     "output_type": "stream",
     "text": [
      "Test Accuracy of the model on the 10000 test images: 10.13%\n"
     ]
    },
    {
     "name": "stderr",
     "output_type": "stream",
     "text": [
      "100%|██████████| 1/1 [00:01<00:00,  1.69s/it]\n"
     ]
    },
    {
     "name": "stdout",
     "output_type": "stream",
     "text": [
      "Running experiment for config: {'model': 'MLP', 'dataset': 'CIFAR10', 'hidden_sizes': [1000, 1000, 1000, 1000, 1000], 'conv_channels': [32, 64, 128, 256], 'fc_layers': [512], 'batch_size': 100, 'learning_rate': 0.01, 'num_epochs': 1, 'rerun': 0, 'activation': 'ReLU', 'normalization': 'LN'}\n",
      "Files already downloaded and verified\n",
      "Files already downloaded and verified\n"
     ]
    },
    {
     "name": "stderr",
     "output_type": "stream",
     "text": [
      "  0%|          | 0/1 [00:00<?, ?it/s]"
     ]
    },
    {
     "name": "stdout",
     "output_type": "stream",
     "text": [
      "Test Accuracy of the model on the 10000 test images: 9.51%\n"
     ]
    },
    {
     "name": "stderr",
     "output_type": "stream",
     "text": [
      "100%|██████████| 1/1 [00:01<00:00,  1.88s/it]\n"
     ]
    },
    {
     "name": "stdout",
     "output_type": "stream",
     "text": [
      "Running experiment for config: {'model': 'MLP', 'dataset': 'CIFAR10', 'hidden_sizes': [512, 1024, 2048, 4096, 8192], 'conv_channels': [32, 64, 128, 256], 'fc_layers': [512], 'batch_size': 100, 'learning_rate': 0.01, 'num_epochs': 1, 'rerun': 0, 'activation': 'ReLU', 'normalization': 'LN'}\n",
      "Files already downloaded and verified\n",
      "Files already downloaded and verified\n"
     ]
    },
    {
     "name": "stderr",
     "output_type": "stream",
     "text": [
      "  0%|          | 0/1 [00:00<?, ?it/s]"
     ]
    },
    {
     "name": "stdout",
     "output_type": "stream",
     "text": [
      "Test Accuracy of the model on the 10000 test images: 8.95%\n"
     ]
    },
    {
     "name": "stderr",
     "output_type": "stream",
     "text": [
      "100%|██████████| 1/1 [00:01<00:00,  1.95s/it]\n"
     ]
    },
    {
     "name": "stdout",
     "output_type": "stream",
     "text": [
      "Running experiment for config: {'model': 'MLP', 'dataset': 'CIFAR10', 'hidden_sizes': [8192, 4096, 2048, 1024, 512], 'conv_channels': [32, 64, 128, 256], 'fc_layers': [512], 'batch_size': 100, 'learning_rate': 0.01, 'num_epochs': 1, 'rerun': 0, 'activation': 'ReLU', 'normalization': 'LN'}\n",
      "Files already downloaded and verified\n",
      "Files already downloaded and verified\n"
     ]
    },
    {
     "name": "stderr",
     "output_type": "stream",
     "text": [
      "  0%|          | 0/1 [00:00<?, ?it/s]"
     ]
    },
    {
     "name": "stdout",
     "output_type": "stream",
     "text": [
      "Test Accuracy of the model on the 10000 test images: 8.73%\n"
     ]
    },
    {
     "name": "stderr",
     "output_type": "stream",
     "text": [
      "100%|██████████| 1/1 [00:01<00:00,  1.98s/it]\n"
     ]
    },
    {
     "name": "stdout",
     "output_type": "stream",
     "text": [
      "Running experiment for config: {'model': 'MLP', 'dataset': 'CIFAR10', 'hidden_sizes': [1024, 2048, 1024, 2048, 1024], 'conv_channels': [32, 64, 128, 256], 'fc_layers': [512], 'batch_size': 100, 'learning_rate': 0.01, 'num_epochs': 1, 'rerun': 0, 'activation': 'ReLU', 'normalization': 'LN'}\n",
      "Files already downloaded and verified\n",
      "Files already downloaded and verified\n"
     ]
    },
    {
     "name": "stderr",
     "output_type": "stream",
     "text": [
      "  0%|          | 0/1 [00:00<?, ?it/s]"
     ]
    },
    {
     "name": "stdout",
     "output_type": "stream",
     "text": [
      "Test Accuracy of the model on the 10000 test images: 10.78%\n"
     ]
    },
    {
     "name": "stderr",
     "output_type": "stream",
     "text": [
      "100%|██████████| 1/1 [00:01<00:00,  1.93s/it]\n"
     ]
    },
    {
     "data": {
      "image/png": "[encoded data removed]",
      "text/plain": [
       "<Figure size 1200x400 with 2 Axes>"
      ]
     },
     "metadata": {},
     "output_type": "display_data"
    }
   ],
   "source": [
    "# Define the config grid with lists of possible values for each parameter\n",
    "config_grid = {\n",
    "    'model': ['MLP'],\n",
    "    'dataset': ['MNIST', 'CIFAR10',],\n",
    "    'hidden_sizes': [[1000,]*5, [int(2**(l+9)) for l in range(5)], [2**(13-l) for l in range(5)], [1024*2**(l%2) for l in range(5)]],\n",
    "    'conv_channels': [[32, 64, 128, 256]],  # Two convolutional layers with 32 and 64 filters respectively\n",
    "    'fc_layers': [[512]],  # One fully connected layer for CNN \n",
    "    'batch_size': [100],\n",
    "    'learning_rate': [0.01,],\n",
    "    'num_epochs': [1],\n",
    "    'rerun': range(1),\n",
    "    'activation': [\"ReLU\"], #[\"ReLU\", \"PReLU\", \"Tanh\", \"Identity\",\"SELU\",\"SiLU\", \"ELU\", \"GELU\"],\n",
    "    'normalization': [\"LN\",],\n",
    "}\n",
    "\n",
    "final_results_df = run_experiment_grid(config_grid)\n",
    "\n",
    "\n",
    "df = final_results_df\n",
    "df = df.loc[df.stage=='train']\n",
    "g = sns.FacetGrid(df, col=\"dataset\", col_wrap=2, height=4, aspect=1.5, hue='mlp_shape', palette=\"tab10\")#, hue_order=activation_beta_df.activation, palette=palette_dict,)\n",
    "g.map(sns.lineplot, 'layer', 'iso_gap', linewidth=2, marker='o',)\n",
    "g.set(xlabel='Layer', ylabel='Isometry Gap')\n",
    "for ax in g.axes.flat:\n",
    "    ax.set_xticks(df['l'].unique()-.5)\n",
    "    ax.set_xticklabels(df['layer'].unique(), rotation=90, )\n",
    "\n",
    "plt.legend(title='hidden dimensions')\n",
    "plt.savefig('mlp_shape.pdf', bbox_inches='tight')\n",
    "plt.show()"
   ]
  },
  {
   "cell_type": "code",
   "execution_count": null,
   "metadata": {
    "id": "Pzi0sIHvpWxM"
   },
   "outputs": [],
   "source": [
    "# Define the config grid with lists of possible values for each parameter\n",
    "config_grid = {\n",
    "    'model': ['MLP'],\n",
    "    'dataset': ['CIFAR10',],\n",
    "    'hidden_sizes': [[1000]*10],\n",
    "    'conv_channels': [[32, 64, 128, 256]],  # Two convolutional layers with 32 and 64 filters respectively\n",
    "    'fc_layers': [[512]],  # One fully connected layer with 128 units\n",
    "    'batch_size': [100],\n",
    "    'learning_rate': [0.01,],\n",
    "    'num_epochs': [10],\n",
    "    'rerun': range(1),\n",
    "    'activation': [\"ReLU\", \"PReLU\", \"Tanh\", \"Identity\",\"SELU\",\"SiLU\", \"ELU\", \"GELU\"],\n",
    "    'normalization': [\"LN\",],\n",
    "}\n",
    "\n",
    "\n",
    "# final_results_df = run_experiment_grid(config_grid)\n",
    "final_results_df = pd.read_csv('results_training.csv')\n",
    "\n",
    "\n",
    "df = final_results_df\n",
    "df = df.loc[df.stage=='train']\n",
    "df = df.loc[df.dataset=='CIFAR10']\n",
    "df = df.loc[df.epoch.isin([0,9])]\n",
    "df.activation = df.activation.apply(lambda x: x.split(',')[0])\n",
    "df['activation']  = df.apply(lambda x: f\"{x.activation}, $\\\\beta_0 = {x.beta:.3}$\", axis=1)\n",
    "\n",
    "activation_beta_df = df[['activation', 'beta']].drop_duplicates().sort_values('beta')\n",
    "colors = sns.color_palette(\"hot\", n_colors=len(activation_beta_df)+5)\n",
    "palette_dict = {activation: color for activation, color in zip(activation_beta_df['activation'], colors)}\n",
    "g = sns.FacetGrid(df, col=\"epoch\", col_wrap=2, height=4, aspect=1.4, hue='activation', hue_order=activation_beta_df.activation, palette=palette_dict,)\n",
    "g.map(sns.lineplot, 'layer', 'iso_gap', linewidth=2).set(yscale = 'log')\n",
    "# Adding titles and labels\n",
    "g.set_axis_labels('Layer', 'Isometry Gap')\n",
    "\n",
    "# Iterate through each facet and set custom xticks\n",
    "for ax, epoch in zip(g.axes.flat, df.epoch.unique()):\n",
    "    if epoch==0:\n",
    "        ax.set_title('CIFAR10, initialization')\n",
    "    else:\n",
    "        ax.set_title(f'CIFAR10, epoch {epoch}')\n",
    "    ax.set_xticks(df['l'].unique()-.5)\n",
    "    ax.set_xticklabels(df['layer'].unique(), rotation=90, )\n",
    "\n",
    "    for marker,layer, desc in [('darkgreen','act', 'activation'), ('darkblue','norm', 'normalization')]:#, ('^', 'fc')]:\n",
    "        df2 = df.loc[df.layer.str.contains(layer)&(df.epoch==epoch)].groupby(['activation', 'l'])['iso_gap'].mean().reset_index()\n",
    "        for li,l in enumerate(df2.l.unique()):\n",
    "            if li==0:\n",
    "                ax.fill_betweenx([0,df.iso_gap.max()], l-1, l, color=marker, alpha=0.2, label=desc)\n",
    "            else:\n",
    "                ax.fill_betweenx([0,df.iso_gap.max()], l-1, l, color=marker, alpha=0.2)\n",
    "\n",
    "ax.legend(loc='center left', bbox_to_anchor=(1,.5))\n",
    "plt.savefig('iso_gap_int_train.pdf', bbox_inches='tight')\n",
    "plt.show()"
   ]
  },
  {
   "cell_type": "code",
   "execution_count": 4,
   "metadata": {
    "id": "qdF7_8GfpYh3"
   },
   "outputs": [
    {
     "data": {
      "image/png": "[encoded data removed]",
      "text/plain": [
       "<Figure size 1200x400 with 2 Axes>"
      ]
     },
     "metadata": {},
     "output_type": "display_data"
    }
   ],
   "source": [
    "# Define the config grid with lists of possible values for each parameter\n",
    "config_grid = {\n",
    "    'model': ['MLP'],\n",
    "    'dataset': ['CIFAR10','CIFAR100'],\n",
    "    'hidden_sizes': [[1000]*10],\n",
    "    'conv_channels': [[32, 64, 128, 256]],  # Two convolutional layers with 32 and 64 filters respectively\n",
    "    'fc_layers': [[512]],  # One fully connected layer with 128 units\n",
    "    'batch_size': [512],\n",
    "    'learning_rate': [0.01,],\n",
    "    'num_epochs': [10],\n",
    "    'rerun': range(1),\n",
    "    'activation': [\"ReLU\", \"Identity\",\"PReLU\", \"Tanh\", \"SELU\",\"SiLU\", \"ELU\", \"GELU\"],\n",
    "    'normalization': [\"LN\",],\n",
    "}\n",
    "\n",
    "\n",
    "# final_results_df = run_experiment_grid(config_grid)\n",
    "final_results_df = pd.read_csv('results_training.csv')\n",
    "# final_results_df.to_csv('results_training.csv')\n",
    "df = final_results_df\n",
    "df = df.loc[df.stage=='train'].copy()\n",
    "df.activation = df.activation.apply(lambda x: x.split(',')[0])\n",
    "df['activation']  = df.apply(lambda x: f\"{x.activation}, $\\\\beta_0 = {x.beta:.3}$\", axis=1)\n",
    "\n",
    "activation_beta_df = df[['activation', 'beta']].drop_duplicates().sort_values('beta')\n",
    "colors = sns.color_palette(\"hot\", n_colors=len(activation_beta_df)+5)\n",
    "palette_dict = {activation: color for activation, color in zip(activation_beta_df['activation'], colors)}\n",
    "g = sns.FacetGrid(df, col=\"dataset\", col_wrap=2, height=4, aspect=1.5, hue='activation', hue_order=activation_beta_df.activation, palette=palette_dict,sharey=False)\n",
    "g.map(sns.lineplot, 'epoch', 'loss', linewidth=2, marker='s', )\n",
    "for ax in g.axes.flat:\n",
    "    pass\n",
    "ax.set_ylabel('training loss')\n",
    "ax.legend(loc='center left', bbox_to_anchor=(1,.5))\n",
    "plt.savefig('beta0_train_loss.pdf', bbox_inches='tight')\n",
    "plt.show()"
   ]
  },
  {
   "cell_type": "code",
   "execution_count": 27,
   "metadata": {},
   "outputs": [
    {
     "name": "stdout",
     "output_type": "stream",
     "text": [
      "Running experiment for config: {'model': 'MLP', 'dataset': 'CIFAR10', 'hidden_sizes': [1000, 1000, 1000, 1000, 1000, 1000, 1000, 1000, 1000, 1000], 'batch_size': 512, 'learning_rate': 0.01, 'num_epochs': 10, 'rerun': 0, 'activation': 'ReLU', 'normalization': 'LN'}\n",
      "Files already downloaded and verified\n"
     ]
    },
    {
     "name": "stdout",
     "output_type": "stream",
     "text": [
      "Files already downloaded and verified\n"
     ]
    },
    {
     "name": "stderr",
     "output_type": "stream",
     "text": [
      "  0%|          | 0/10 [00:00<?, ?it/s]"
     ]
    },
    {
     "name": "stdout",
     "output_type": "stream",
     "text": [
      "Test Accuracy of the model on the 10000 test images: 10.42%\n"
     ]
    },
    {
     "name": "stderr",
     "output_type": "stream",
     "text": [
      " 10%|█         | 1/10 [00:08<01:13,  8.18s/it]"
     ]
    },
    {
     "name": "stdout",
     "output_type": "stream",
     "text": [
      "Epoch [2/10], Train Loss: 1.9366\n",
      "Test Accuracy of the model on the 10000 test images: 30.57%\n"
     ]
    },
    {
     "name": "stderr",
     "output_type": "stream",
     "text": [
      " 20%|██        | 2/10 [00:23<01:36, 12.09s/it]"
     ]
    },
    {
     "name": "stdout",
     "output_type": "stream",
     "text": [
      "Epoch [3/10], Train Loss: 1.5918\n",
      "Test Accuracy of the model on the 10000 test images: 33.30%\n"
     ]
    },
    {
     "name": "stderr",
     "output_type": "stream",
     "text": [
      " 30%|███       | 3/10 [00:37<01:33, 13.35s/it]"
     ]
    },
    {
     "name": "stdout",
     "output_type": "stream",
     "text": [
      "Epoch [4/10], Train Loss: 1.3622\n",
      "Test Accuracy of the model on the 10000 test images: 33.62%\n"
     ]
    },
    {
     "name": "stderr",
     "output_type": "stream",
     "text": [
      " 40%|████      | 4/10 [00:52<01:23, 13.99s/it]"
     ]
    },
    {
     "name": "stdout",
     "output_type": "stream",
     "text": [
      "Epoch [5/10], Train Loss: 0.9459\n",
      "Test Accuracy of the model on the 10000 test images: 35.08%\n"
     ]
    },
    {
     "name": "stderr",
     "output_type": "stream",
     "text": [
      " 50%|█████     | 5/10 [01:07<01:11, 14.33s/it]"
     ]
    },
    {
     "name": "stdout",
     "output_type": "stream",
     "text": [
      "Epoch [6/10], Train Loss: 0.6747\n",
      "Test Accuracy of the model on the 10000 test images: 34.59%\n"
     ]
    },
    {
     "name": "stderr",
     "output_type": "stream",
     "text": [
      " 60%|██████    | 6/10 [01:22<00:58, 14.53s/it]"
     ]
    },
    {
     "name": "stdout",
     "output_type": "stream",
     "text": [
      "Epoch [7/10], Train Loss: 0.4817\n",
      "Test Accuracy of the model on the 10000 test images: 34.72%\n"
     ]
    },
    {
     "name": "stderr",
     "output_type": "stream",
     "text": [
      " 70%|███████   | 7/10 [01:37<00:43, 14.63s/it]"
     ]
    },
    {
     "name": "stdout",
     "output_type": "stream",
     "text": [
      "Epoch [8/10], Train Loss: 0.3588\n",
      "Test Accuracy of the model on the 10000 test images: 34.38%\n"
     ]
    },
    {
     "name": "stderr",
     "output_type": "stream",
     "text": [
      " 80%|████████  | 8/10 [01:52<00:29, 14.71s/it]"
     ]
    },
    {
     "name": "stdout",
     "output_type": "stream",
     "text": [
      "Epoch [9/10], Train Loss: 0.2182\n",
      "Test Accuracy of the model on the 10000 test images: 35.35%\n"
     ]
    },
    {
     "name": "stderr",
     "output_type": "stream",
     "text": [
      " 90%|█████████ | 9/10 [02:07<00:14, 14.79s/it]"
     ]
    },
    {
     "name": "stdout",
     "output_type": "stream",
     "text": [
      "Epoch [10/10], Train Loss: 0.1877\n",
      "Test Accuracy of the model on the 10000 test images: 33.61%\n"
     ]
    },
    {
     "name": "stderr",
     "output_type": "stream",
     "text": [
      "100%|██████████| 10/10 [02:22<00:00, 14.23s/it]\n"
     ]
    },
    {
     "name": "stdout",
     "output_type": "stream",
     "text": [
      "Running experiment for config: {'model': 'MLP', 'dataset': 'CIFAR10', 'hidden_sizes': [1000, 1000, 1000, 1000, 1000, 1000, 1000, 1000, 1000, 1000], 'batch_size': 512, 'learning_rate': 0.01, 'num_epochs': 10, 'rerun': 0, 'activation': 'Identity', 'normalization': 'LN'}\n",
      "Files already downloaded and verified\n",
      "Files already downloaded and verified\n"
     ]
    },
    {
     "name": "stderr",
     "output_type": "stream",
     "text": [
      "  0%|          | 0/10 [00:00<?, ?it/s]"
     ]
    },
    {
     "name": "stdout",
     "output_type": "stream",
     "text": [
      "Test Accuracy of the model on the 10000 test images: 8.40%\n"
     ]
    },
    {
     "name": "stderr",
     "output_type": "stream",
     "text": [
      " 10%|█         | 1/10 [00:09<01:27,  9.74s/it]"
     ]
    },
    {
     "name": "stdout",
     "output_type": "stream",
     "text": [
      "Epoch [2/10], Train Loss: 1.7555\n",
      "Test Accuracy of the model on the 10000 test images: 36.72%\n"
     ]
    },
    {
     "name": "stderr",
     "output_type": "stream",
     "text": [
      " 20%|██        | 2/10 [00:26<01:49, 13.71s/it]"
     ]
    },
    {
     "name": "stdout",
     "output_type": "stream",
     "text": [
      "Epoch [3/10], Train Loss: 1.6821\n",
      "Test Accuracy of the model on the 10000 test images: 38.00%\n"
     ]
    },
    {
     "name": "stderr",
     "output_type": "stream",
     "text": [
      " 30%|███       | 3/10 [00:42<01:45, 15.02s/it]"
     ]
    },
    {
     "name": "stdout",
     "output_type": "stream",
     "text": [
      "Epoch [4/10], Train Loss: 1.6678\n",
      "Test Accuracy of the model on the 10000 test images: 38.20%\n"
     ]
    },
    {
     "name": "stderr",
     "output_type": "stream",
     "text": [
      " 40%|████      | 4/10 [00:59<01:33, 15.58s/it]"
     ]
    },
    {
     "name": "stdout",
     "output_type": "stream",
     "text": [
      "Epoch [5/10], Train Loss: 1.7031\n",
      "Test Accuracy of the model on the 10000 test images: 39.19%\n"
     ]
    },
    {
     "name": "stderr",
     "output_type": "stream",
     "text": [
      " 50%|█████     | 5/10 [01:15<01:19, 15.89s/it]"
     ]
    },
    {
     "name": "stdout",
     "output_type": "stream",
     "text": [
      "Epoch [6/10], Train Loss: 1.7175\n",
      "Test Accuracy of the model on the 10000 test images: 38.83%\n"
     ]
    },
    {
     "name": "stderr",
     "output_type": "stream",
     "text": [
      " 60%|██████    | 6/10 [01:32<01:04, 16.04s/it]"
     ]
    },
    {
     "name": "stdout",
     "output_type": "stream",
     "text": [
      "Epoch [7/10], Train Loss: 1.6458\n",
      "Test Accuracy of the model on the 10000 test images: 39.19%\n"
     ]
    },
    {
     "name": "stderr",
     "output_type": "stream",
     "text": [
      " 70%|███████   | 7/10 [01:48<00:48, 16.16s/it]"
     ]
    },
    {
     "name": "stdout",
     "output_type": "stream",
     "text": [
      "Epoch [8/10], Train Loss: 1.6585\n",
      "Test Accuracy of the model on the 10000 test images: 38.99%\n"
     ]
    },
    {
     "name": "stderr",
     "output_type": "stream",
     "text": [
      " 80%|████████  | 8/10 [02:04<00:32, 16.24s/it]"
     ]
    },
    {
     "name": "stdout",
     "output_type": "stream",
     "text": [
      "Epoch [9/10], Train Loss: 1.7054\n",
      "Test Accuracy of the model on the 10000 test images: 38.65%\n"
     ]
    },
    {
     "name": "stderr",
     "output_type": "stream",
     "text": [
      " 90%|█████████ | 9/10 [02:21<00:16, 16.27s/it]"
     ]
    },
    {
     "name": "stdout",
     "output_type": "stream",
     "text": [
      "Epoch [10/10], Train Loss: 1.6970\n",
      "Test Accuracy of the model on the 10000 test images: 37.60%\n"
     ]
    },
    {
     "name": "stderr",
     "output_type": "stream",
     "text": [
      "100%|██████████| 10/10 [02:37<00:00, 15.76s/it]\n"
     ]
    },
    {
     "name": "stdout",
     "output_type": "stream",
     "text": [
      "Running experiment for config: {'model': 'MLP', 'dataset': 'CIFAR10', 'hidden_sizes': [1000, 1000, 1000, 1000, 1000, 1000, 1000, 1000, 1000, 1000], 'batch_size': 512, 'learning_rate': 0.01, 'num_epochs': 10, 'rerun': 0, 'activation': 'PReLU', 'normalization': 'LN'}\n",
      "Files already downloaded and verified\n",
      "Files already downloaded and verified\n"
     ]
    },
    {
     "name": "stderr",
     "output_type": "stream",
     "text": [
      "  0%|          | 0/10 [00:00<?, ?it/s]"
     ]
    },
    {
     "name": "stdout",
     "output_type": "stream",
     "text": [
      "Test Accuracy of the model on the 10000 test images: 9.00%\n"
     ]
    },
    {
     "name": "stderr",
     "output_type": "stream",
     "text": [
      " 10%|█         | 1/10 [00:08<01:15,  8.41s/it]"
     ]
    },
    {
     "name": "stdout",
     "output_type": "stream",
     "text": [
      "Epoch [2/10], Train Loss: 1.6286\n",
      "Test Accuracy of the model on the 10000 test images: 41.36%\n"
     ]
    },
    {
     "name": "stderr",
     "output_type": "stream",
     "text": [
      " 20%|██        | 2/10 [00:23<01:39, 12.48s/it]"
     ]
    },
    {
     "name": "stdout",
     "output_type": "stream",
     "text": [
      "Epoch [3/10], Train Loss: 1.5159\n",
      "Test Accuracy of the model on the 10000 test images: 43.50%\n"
     ]
    },
    {
     "name": "stderr",
     "output_type": "stream",
     "text": [
      " 30%|███       | 3/10 [00:38<01:36, 13.72s/it]"
     ]
    },
    {
     "name": "stdout",
     "output_type": "stream",
     "text": [
      "Epoch [4/10], Train Loss: 1.3343\n",
      "Test Accuracy of the model on the 10000 test images: 44.10%\n"
     ]
    },
    {
     "name": "stderr",
     "output_type": "stream",
     "text": [
      " 40%|████      | 4/10 [00:54<01:25, 14.30s/it]"
     ]
    },
    {
     "name": "stdout",
     "output_type": "stream",
     "text": [
      "Epoch [5/10], Train Loss: 1.1868\n",
      "Test Accuracy of the model on the 10000 test images: 44.25%\n"
     ]
    },
    {
     "name": "stderr",
     "output_type": "stream",
     "text": [
      " 50%|█████     | 5/10 [01:09<01:13, 14.64s/it]"
     ]
    },
    {
     "name": "stdout",
     "output_type": "stream",
     "text": [
      "Epoch [6/10], Train Loss: 0.9429\n",
      "Test Accuracy of the model on the 10000 test images: 44.49%\n"
     ]
    },
    {
     "name": "stderr",
     "output_type": "stream",
     "text": [
      " 60%|██████    | 6/10 [01:24<00:59, 14.84s/it]"
     ]
    },
    {
     "name": "stdout",
     "output_type": "stream",
     "text": [
      "Epoch [7/10], Train Loss: 0.6669\n",
      "Test Accuracy of the model on the 10000 test images: 44.17%\n"
     ]
    },
    {
     "name": "stderr",
     "output_type": "stream",
     "text": [
      " 70%|███████   | 7/10 [01:39<00:44, 14.94s/it]"
     ]
    },
    {
     "name": "stdout",
     "output_type": "stream",
     "text": [
      "Epoch [8/10], Train Loss: 0.5833\n",
      "Test Accuracy of the model on the 10000 test images: 43.74%\n"
     ]
    },
    {
     "name": "stderr",
     "output_type": "stream",
     "text": [
      " 80%|████████  | 8/10 [01:54<00:30, 15.02s/it]"
     ]
    },
    {
     "name": "stdout",
     "output_type": "stream",
     "text": [
      "Epoch [9/10], Train Loss: 0.4864\n",
      "Test Accuracy of the model on the 10000 test images: 43.10%\n"
     ]
    },
    {
     "name": "stderr",
     "output_type": "stream",
     "text": [
      " 90%|█████████ | 9/10 [02:09<00:15, 15.03s/it]"
     ]
    },
    {
     "name": "stdout",
     "output_type": "stream",
     "text": [
      "Epoch [10/10], Train Loss: 0.2981\n",
      "Test Accuracy of the model on the 10000 test images: 43.32%\n"
     ]
    },
    {
     "name": "stderr",
     "output_type": "stream",
     "text": [
      "100%|██████████| 10/10 [02:25<00:00, 14.51s/it]\n"
     ]
    },
    {
     "name": "stdout",
     "output_type": "stream",
     "text": [
      "Running experiment for config: {'model': 'MLP', 'dataset': 'CIFAR10', 'hidden_sizes': [1000, 1000, 1000, 1000, 1000, 1000, 1000, 1000, 1000, 1000], 'batch_size': 512, 'learning_rate': 0.01, 'num_epochs': 10, 'rerun': 0, 'activation': 'Tanh', 'normalization': 'LN'}\n",
      "Files already downloaded and verified\n",
      "Files already downloaded and verified\n"
     ]
    },
    {
     "name": "stderr",
     "output_type": "stream",
     "text": [
      "  0%|          | 0/10 [00:00<?, ?it/s]"
     ]
    },
    {
     "name": "stdout",
     "output_type": "stream",
     "text": [
      "Test Accuracy of the model on the 10000 test images: 9.89%\n"
     ]
    },
    {
     "name": "stderr",
     "output_type": "stream",
     "text": [
      " 10%|█         | 1/10 [00:08<01:16,  8.47s/it]"
     ]
    },
    {
     "name": "stdout",
     "output_type": "stream",
     "text": [
      "Epoch [2/10], Train Loss: 1.8080\n",
      "Test Accuracy of the model on the 10000 test images: 37.63%\n"
     ]
    },
    {
     "name": "stderr",
     "output_type": "stream",
     "text": [
      " 20%|██        | 2/10 [00:23<01:38, 12.31s/it]"
     ]
    },
    {
     "name": "stdout",
     "output_type": "stream",
     "text": [
      "Epoch [3/10], Train Loss: 1.6608\n",
      "Test Accuracy of the model on the 10000 test images: 39.78%\n"
     ]
    },
    {
     "name": "stderr",
     "output_type": "stream",
     "text": [
      " 30%|███       | 3/10 [00:38<01:35, 13.57s/it]"
     ]
    },
    {
     "name": "stdout",
     "output_type": "stream",
     "text": [
      "Epoch [4/10], Train Loss: 1.3998\n",
      "Test Accuracy of the model on the 10000 test images: 40.63%\n"
     ]
    },
    {
     "name": "stderr",
     "output_type": "stream",
     "text": [
      " 40%|████      | 4/10 [00:53<01:24, 14.13s/it]"
     ]
    },
    {
     "name": "stdout",
     "output_type": "stream",
     "text": [
      "Epoch [5/10], Train Loss: 1.2380\n",
      "Test Accuracy of the model on the 10000 test images: 40.91%\n"
     ]
    },
    {
     "name": "stderr",
     "output_type": "stream",
     "text": [
      " 50%|█████     | 5/10 [01:08<01:12, 14.46s/it]"
     ]
    },
    {
     "name": "stdout",
     "output_type": "stream",
     "text": [
      "Epoch [6/10], Train Loss: 1.1128\n",
      "Test Accuracy of the model on the 10000 test images: 40.90%\n"
     ]
    },
    {
     "name": "stderr",
     "output_type": "stream",
     "text": [
      " 60%|██████    | 6/10 [01:23<00:59, 14.75s/it]"
     ]
    },
    {
     "name": "stdout",
     "output_type": "stream",
     "text": [
      "Epoch [7/10], Train Loss: 0.9768\n",
      "Test Accuracy of the model on the 10000 test images: 41.11%\n"
     ]
    },
    {
     "name": "stderr",
     "output_type": "stream",
     "text": [
      " 70%|███████   | 7/10 [01:38<00:44, 14.85s/it]"
     ]
    },
    {
     "name": "stdout",
     "output_type": "stream",
     "text": [
      "Epoch [8/10], Train Loss: 0.9180\n",
      "Test Accuracy of the model on the 10000 test images: 40.90%\n"
     ]
    },
    {
     "name": "stderr",
     "output_type": "stream",
     "text": [
      " 80%|████████  | 8/10 [01:54<00:29, 14.96s/it]"
     ]
    },
    {
     "name": "stdout",
     "output_type": "stream",
     "text": [
      "Epoch [9/10], Train Loss: 0.7662\n",
      "Test Accuracy of the model on the 10000 test images: 40.29%\n"
     ]
    },
    {
     "name": "stderr",
     "output_type": "stream",
     "text": [
      " 90%|█████████ | 9/10 [02:09<00:14, 14.98s/it]"
     ]
    },
    {
     "name": "stdout",
     "output_type": "stream",
     "text": [
      "Epoch [10/10], Train Loss: 0.5772\n",
      "Test Accuracy of the model on the 10000 test images: 41.01%\n"
     ]
    },
    {
     "name": "stderr",
     "output_type": "stream",
     "text": [
      "100%|██████████| 10/10 [02:24<00:00, 14.44s/it]\n"
     ]
    },
    {
     "name": "stdout",
     "output_type": "stream",
     "text": [
      "Running experiment for config: {'model': 'MLP', 'dataset': 'CIFAR10', 'hidden_sizes': [1000, 1000, 1000, 1000, 1000, 1000, 1000, 1000, 1000, 1000], 'batch_size': 512, 'learning_rate': 0.01, 'num_epochs': 10, 'rerun': 0, 'activation': 'SELU', 'normalization': 'LN'}\n",
      "Files already downloaded and verified\n",
      "Files already downloaded and verified\n"
     ]
    },
    {
     "name": "stderr",
     "output_type": "stream",
     "text": [
      "  0%|          | 0/10 [00:00<?, ?it/s]"
     ]
    },
    {
     "name": "stdout",
     "output_type": "stream",
     "text": [
      "Test Accuracy of the model on the 10000 test images: 9.47%\n"
     ]
    },
    {
     "name": "stderr",
     "output_type": "stream",
     "text": [
      " 10%|█         | 1/10 [00:08<01:19,  8.84s/it]"
     ]
    },
    {
     "name": "stdout",
     "output_type": "stream",
     "text": [
      "Epoch [2/10], Train Loss: 1.7314\n",
      "Test Accuracy of the model on the 10000 test images: 41.70%\n"
     ]
    },
    {
     "name": "stderr",
     "output_type": "stream",
     "text": [
      " 20%|██        | 2/10 [00:24<01:42, 12.79s/it]"
     ]
    },
    {
     "name": "stdout",
     "output_type": "stream",
     "text": [
      "Epoch [3/10], Train Loss: 1.5456\n",
      "Test Accuracy of the model on the 10000 test images: 43.98%\n"
     ]
    },
    {
     "name": "stderr",
     "output_type": "stream",
     "text": [
      " 30%|███       | 3/10 [00:39<01:38, 14.04s/it]"
     ]
    },
    {
     "name": "stdout",
     "output_type": "stream",
     "text": [
      "Epoch [4/10], Train Loss: 1.4811\n",
      "Test Accuracy of the model on the 10000 test images: 45.39%\n"
     ]
    },
    {
     "name": "stderr",
     "output_type": "stream",
     "text": [
      " 40%|████      | 4/10 [00:55<01:28, 14.76s/it]"
     ]
    },
    {
     "name": "stdout",
     "output_type": "stream",
     "text": [
      "Epoch [5/10], Train Loss: 1.3916\n",
      "Test Accuracy of the model on the 10000 test images: 46.04%\n"
     ]
    },
    {
     "name": "stderr",
     "output_type": "stream",
     "text": [
      " 50%|█████     | 5/10 [01:11<01:15, 15.06s/it]"
     ]
    },
    {
     "name": "stdout",
     "output_type": "stream",
     "text": [
      "Epoch [6/10], Train Loss: 1.2176\n",
      "Test Accuracy of the model on the 10000 test images: 47.95%\n"
     ]
    },
    {
     "name": "stderr",
     "output_type": "stream",
     "text": [
      " 60%|██████    | 6/10 [01:27<01:01, 15.38s/it]"
     ]
    },
    {
     "name": "stdout",
     "output_type": "stream",
     "text": [
      "Epoch [7/10], Train Loss: 1.1429\n",
      "Test Accuracy of the model on the 10000 test images: 48.15%\n"
     ]
    },
    {
     "name": "stderr",
     "output_type": "stream",
     "text": [
      " 70%|███████   | 7/10 [01:42<00:46, 15.40s/it]"
     ]
    },
    {
     "name": "stdout",
     "output_type": "stream",
     "text": [
      "Epoch [8/10], Train Loss: 1.2384\n",
      "Test Accuracy of the model on the 10000 test images: 47.41%\n"
     ]
    },
    {
     "name": "stderr",
     "output_type": "stream",
     "text": [
      " 80%|████████  | 8/10 [01:58<00:30, 15.39s/it]"
     ]
    },
    {
     "name": "stdout",
     "output_type": "stream",
     "text": [
      "Epoch [9/10], Train Loss: 1.1018\n",
      "Test Accuracy of the model on the 10000 test images: 48.69%\n"
     ]
    },
    {
     "name": "stderr",
     "output_type": "stream",
     "text": [
      " 90%|█████████ | 9/10 [02:13<00:15, 15.41s/it]"
     ]
    },
    {
     "name": "stdout",
     "output_type": "stream",
     "text": [
      "Epoch [10/10], Train Loss: 0.9913\n",
      "Test Accuracy of the model on the 10000 test images: 48.87%\n"
     ]
    },
    {
     "name": "stderr",
     "output_type": "stream",
     "text": [
      "100%|██████████| 10/10 [02:29<00:00, 14.96s/it]\n"
     ]
    },
    {
     "name": "stdout",
     "output_type": "stream",
     "text": [
      "Running experiment for config: {'model': 'MLP', 'dataset': 'CIFAR10', 'hidden_sizes': [1000, 1000, 1000, 1000, 1000, 1000, 1000, 1000, 1000, 1000], 'batch_size': 512, 'learning_rate': 0.01, 'num_epochs': 10, 'rerun': 0, 'activation': 'SiLU', 'normalization': 'LN'}\n",
      "Files already downloaded and verified\n",
      "Files already downloaded and verified\n"
     ]
    },
    {
     "name": "stderr",
     "output_type": "stream",
     "text": [
      "  0%|          | 0/10 [00:00<?, ?it/s]"
     ]
    },
    {
     "name": "stdout",
     "output_type": "stream",
     "text": [
      "Test Accuracy of the model on the 10000 test images: 9.99%\n"
     ]
    },
    {
     "name": "stderr",
     "output_type": "stream",
     "text": [
      " 10%|█         | 1/10 [00:08<01:15,  8.40s/it]"
     ]
    },
    {
     "name": "stdout",
     "output_type": "stream",
     "text": [
      "Epoch [2/10], Train Loss: 1.7639\n",
      "Test Accuracy of the model on the 10000 test images: 39.07%\n"
     ]
    },
    {
     "name": "stderr",
     "output_type": "stream",
     "text": [
      " 20%|██        | 2/10 [00:23<01:38, 12.37s/it]"
     ]
    },
    {
     "name": "stdout",
     "output_type": "stream",
     "text": [
      "Epoch [3/10], Train Loss: 1.4848\n",
      "Test Accuracy of the model on the 10000 test images: 42.11%\n"
     ]
    },
    {
     "name": "stderr",
     "output_type": "stream",
     "text": [
      " 30%|███       | 3/10 [00:39<01:36, 13.83s/it]"
     ]
    },
    {
     "name": "stdout",
     "output_type": "stream",
     "text": [
      "Epoch [4/10], Train Loss: 1.1216\n",
      "Test Accuracy of the model on the 10000 test images: 43.32%\n"
     ]
    },
    {
     "name": "stderr",
     "output_type": "stream",
     "text": [
      " 40%|████      | 4/10 [00:54<01:26, 14.34s/it]"
     ]
    },
    {
     "name": "stdout",
     "output_type": "stream",
     "text": [
      "Epoch [5/10], Train Loss: 0.9646\n",
      "Test Accuracy of the model on the 10000 test images: 43.54%\n"
     ]
    },
    {
     "name": "stderr",
     "output_type": "stream",
     "text": [
      " 50%|█████     | 5/10 [01:09<01:13, 14.67s/it]"
     ]
    },
    {
     "name": "stdout",
     "output_type": "stream",
     "text": [
      "Epoch [6/10], Train Loss: 0.7603\n",
      "Test Accuracy of the model on the 10000 test images: 43.64%\n"
     ]
    },
    {
     "name": "stderr",
     "output_type": "stream",
     "text": [
      " 60%|██████    | 6/10 [01:24<00:59, 14.84s/it]"
     ]
    },
    {
     "name": "stdout",
     "output_type": "stream",
     "text": [
      "Epoch [7/10], Train Loss: 0.6134\n",
      "Test Accuracy of the model on the 10000 test images: 43.84%\n"
     ]
    },
    {
     "name": "stderr",
     "output_type": "stream",
     "text": [
      " 70%|███████   | 7/10 [01:39<00:44, 14.92s/it]"
     ]
    },
    {
     "name": "stdout",
     "output_type": "stream",
     "text": [
      "Epoch [8/10], Train Loss: 0.5067\n",
      "Test Accuracy of the model on the 10000 test images: 43.24%\n"
     ]
    },
    {
     "name": "stderr",
     "output_type": "stream",
     "text": [
      " 80%|████████  | 8/10 [01:54<00:29, 14.98s/it]"
     ]
    },
    {
     "name": "stdout",
     "output_type": "stream",
     "text": [
      "Epoch [9/10], Train Loss: 0.3224\n",
      "Test Accuracy of the model on the 10000 test images: 44.01%\n"
     ]
    },
    {
     "name": "stderr",
     "output_type": "stream",
     "text": [
      " 90%|█████████ | 9/10 [02:10<00:15, 15.03s/it]"
     ]
    },
    {
     "name": "stdout",
     "output_type": "stream",
     "text": [
      "Epoch [10/10], Train Loss: 0.2255\n",
      "Test Accuracy of the model on the 10000 test images: 43.79%\n"
     ]
    },
    {
     "name": "stderr",
     "output_type": "stream",
     "text": [
      "100%|██████████| 10/10 [02:25<00:00, 14.51s/it]\n"
     ]
    },
    {
     "name": "stdout",
     "output_type": "stream",
     "text": [
      "Running experiment for config: {'model': 'MLP', 'dataset': 'CIFAR10', 'hidden_sizes': [1000, 1000, 1000, 1000, 1000, 1000, 1000, 1000, 1000, 1000], 'batch_size': 512, 'learning_rate': 0.01, 'num_epochs': 10, 'rerun': 0, 'activation': 'ELU', 'normalization': 'LN'}\n",
      "Files already downloaded and verified\n",
      "Files already downloaded and verified\n"
     ]
    },
    {
     "name": "stderr",
     "output_type": "stream",
     "text": [
      "  0%|          | 0/10 [00:00<?, ?it/s]"
     ]
    },
    {
     "name": "stdout",
     "output_type": "stream",
     "text": [
      "Test Accuracy of the model on the 10000 test images: 9.34%\n"
     ]
    },
    {
     "name": "stderr",
     "output_type": "stream",
     "text": [
      " 10%|█         | 1/10 [00:08<01:17,  8.57s/it]"
     ]
    },
    {
     "name": "stdout",
     "output_type": "stream",
     "text": [
      "Epoch [2/10], Train Loss: 1.6210\n",
      "Test Accuracy of the model on the 10000 test images: 42.95%\n"
     ]
    },
    {
     "name": "stderr",
     "output_type": "stream",
     "text": [
      " 20%|██        | 2/10 [00:23<01:39, 12.49s/it]"
     ]
    },
    {
     "name": "stdout",
     "output_type": "stream",
     "text": [
      "Epoch [3/10], Train Loss: 1.4267\n",
      "Test Accuracy of the model on the 10000 test images: 45.42%\n"
     ]
    },
    {
     "name": "stderr",
     "output_type": "stream",
     "text": [
      " 30%|███       | 3/10 [00:39<01:36, 13.77s/it]"
     ]
    },
    {
     "name": "stdout",
     "output_type": "stream",
     "text": [
      "Epoch [4/10], Train Loss: 1.3034\n",
      "Test Accuracy of the model on the 10000 test images: 47.05%\n"
     ]
    },
    {
     "name": "stderr",
     "output_type": "stream",
     "text": [
      " 40%|████      | 4/10 [00:54<01:27, 14.54s/it]"
     ]
    },
    {
     "name": "stdout",
     "output_type": "stream",
     "text": [
      "Epoch [5/10], Train Loss: 1.1961\n",
      "Test Accuracy of the model on the 10000 test images: 48.31%\n"
     ]
    },
    {
     "name": "stderr",
     "output_type": "stream",
     "text": [
      " 50%|█████     | 5/10 [01:10<01:14, 14.81s/it]"
     ]
    },
    {
     "name": "stdout",
     "output_type": "stream",
     "text": [
      "Epoch [6/10], Train Loss: 1.1885\n",
      "Test Accuracy of the model on the 10000 test images: 47.21%\n"
     ]
    },
    {
     "name": "stderr",
     "output_type": "stream",
     "text": [
      " 60%|██████    | 6/10 [01:25<00:59, 14.98s/it]"
     ]
    },
    {
     "name": "stdout",
     "output_type": "stream",
     "text": [
      "Epoch [7/10], Train Loss: 1.0694\n",
      "Test Accuracy of the model on the 10000 test images: 48.75%\n"
     ]
    },
    {
     "name": "stderr",
     "output_type": "stream",
     "text": [
      " 70%|███████   | 7/10 [01:40<00:45, 15.09s/it]"
     ]
    },
    {
     "name": "stdout",
     "output_type": "stream",
     "text": [
      "Epoch [8/10], Train Loss: 0.9901\n",
      "Test Accuracy of the model on the 10000 test images: 48.75%\n"
     ]
    },
    {
     "name": "stderr",
     "output_type": "stream",
     "text": [
      " 80%|████████  | 8/10 [01:56<00:30, 15.26s/it]"
     ]
    },
    {
     "name": "stdout",
     "output_type": "stream",
     "text": [
      "Epoch [9/10], Train Loss: 0.7996\n",
      "Test Accuracy of the model on the 10000 test images: 49.33%\n"
     ]
    },
    {
     "name": "stderr",
     "output_type": "stream",
     "text": [
      " 90%|█████████ | 9/10 [02:11<00:15, 15.31s/it]"
     ]
    },
    {
     "name": "stdout",
     "output_type": "stream",
     "text": [
      "Epoch [10/10], Train Loss: 0.6870\n",
      "Test Accuracy of the model on the 10000 test images: 48.44%\n"
     ]
    },
    {
     "name": "stderr",
     "output_type": "stream",
     "text": [
      "100%|██████████| 10/10 [02:27<00:00, 14.72s/it]\n"
     ]
    },
    {
     "name": "stdout",
     "output_type": "stream",
     "text": [
      "Running experiment for config: {'model': 'MLP', 'dataset': 'CIFAR10', 'hidden_sizes': [1000, 1000, 1000, 1000, 1000, 1000, 1000, 1000, 1000, 1000], 'batch_size': 512, 'learning_rate': 0.01, 'num_epochs': 10, 'rerun': 0, 'activation': 'GELU', 'normalization': 'LN'}\n",
      "Files already downloaded and verified\n",
      "Files already downloaded and verified\n"
     ]
    },
    {
     "name": "stderr",
     "output_type": "stream",
     "text": [
      "  0%|          | 0/10 [00:00<?, ?it/s]"
     ]
    },
    {
     "name": "stdout",
     "output_type": "stream",
     "text": [
      "Test Accuracy of the model on the 10000 test images: 10.09%\n"
     ]
    },
    {
     "name": "stderr",
     "output_type": "stream",
     "text": [
      " 10%|█         | 1/10 [00:08<01:15,  8.34s/it]"
     ]
    },
    {
     "name": "stdout",
     "output_type": "stream",
     "text": [
      "Epoch [2/10], Train Loss: 1.8617\n",
      "Test Accuracy of the model on the 10000 test images: 33.80%\n"
     ]
    },
    {
     "name": "stderr",
     "output_type": "stream",
     "text": [
      " 20%|██        | 2/10 [00:23<01:38, 12.31s/it]"
     ]
    },
    {
     "name": "stdout",
     "output_type": "stream",
     "text": [
      "Epoch [3/10], Train Loss: 1.3882\n",
      "Test Accuracy of the model on the 10000 test images: 36.33%\n"
     ]
    },
    {
     "name": "stderr",
     "output_type": "stream",
     "text": [
      " 30%|███       | 3/10 [00:38<01:34, 13.50s/it]"
     ]
    },
    {
     "name": "stdout",
     "output_type": "stream",
     "text": [
      "Epoch [4/10], Train Loss: 1.0764\n",
      "Test Accuracy of the model on the 10000 test images: 37.05%\n"
     ]
    },
    {
     "name": "stderr",
     "output_type": "stream",
     "text": [
      " 40%|████      | 4/10 [00:53<01:24, 14.02s/it]"
     ]
    },
    {
     "name": "stdout",
     "output_type": "stream",
     "text": [
      "Epoch [5/10], Train Loss: 0.7480\n",
      "Test Accuracy of the model on the 10000 test images: 37.65%\n"
     ]
    },
    {
     "name": "stderr",
     "output_type": "stream",
     "text": [
      " 50%|█████     | 5/10 [01:07<01:11, 14.31s/it]"
     ]
    },
    {
     "name": "stdout",
     "output_type": "stream",
     "text": [
      "Epoch [6/10], Train Loss: 0.5003\n",
      "Test Accuracy of the model on the 10000 test images: 37.69%\n"
     ]
    },
    {
     "name": "stderr",
     "output_type": "stream",
     "text": [
      " 60%|██████    | 6/10 [01:23<00:58, 14.59s/it]"
     ]
    },
    {
     "name": "stdout",
     "output_type": "stream",
     "text": [
      "Epoch [7/10], Train Loss: 0.3403\n",
      "Test Accuracy of the model on the 10000 test images: 37.61%\n"
     ]
    },
    {
     "name": "stderr",
     "output_type": "stream",
     "text": [
      " 70%|███████   | 7/10 [01:38<00:44, 14.73s/it]"
     ]
    },
    {
     "name": "stdout",
     "output_type": "stream",
     "text": [
      "Epoch [8/10], Train Loss: 0.2726\n",
      "Test Accuracy of the model on the 10000 test images: 37.11%\n"
     ]
    },
    {
     "name": "stderr",
     "output_type": "stream",
     "text": [
      " 80%|████████  | 8/10 [01:53<00:29, 14.85s/it]"
     ]
    },
    {
     "name": "stdout",
     "output_type": "stream",
     "text": [
      "Epoch [9/10], Train Loss: 0.1961\n",
      "Test Accuracy of the model on the 10000 test images: 37.73%\n"
     ]
    },
    {
     "name": "stderr",
     "output_type": "stream",
     "text": [
      " 90%|█████████ | 9/10 [02:08<00:14, 14.94s/it]"
     ]
    },
    {
     "name": "stdout",
     "output_type": "stream",
     "text": [
      "Epoch [10/10], Train Loss: 0.1036\n",
      "Test Accuracy of the model on the 10000 test images: 37.70%\n"
     ]
    },
    {
     "name": "stderr",
     "output_type": "stream",
     "text": [
      "100%|██████████| 10/10 [02:23<00:00, 14.35s/it]\n"
     ]
    },
    {
     "name": "stdout",
     "output_type": "stream",
     "text": [
      "Running experiment for config: {'model': 'MLP', 'dataset': 'CIFAR10', 'hidden_sizes': [1000, 1000, 1000, 1000, 1000, 1000, 1000, 1000, 1000, 1000], 'batch_size': 512, 'learning_rate': 0.01, 'num_epochs': 10, 'rerun': 1, 'activation': 'ReLU', 'normalization': 'LN'}\n",
      "Files already downloaded and verified\n",
      "Files already downloaded and verified\n"
     ]
    },
    {
     "name": "stderr",
     "output_type": "stream",
     "text": [
      "  0%|          | 0/10 [00:00<?, ?it/s]"
     ]
    },
    {
     "name": "stdout",
     "output_type": "stream",
     "text": [
      "Test Accuracy of the model on the 10000 test images: 10.95%\n"
     ]
    },
    {
     "name": "stderr",
     "output_type": "stream",
     "text": [
      " 10%|█         | 1/10 [00:08<01:14,  8.27s/it]"
     ]
    },
    {
     "name": "stdout",
     "output_type": "stream",
     "text": [
      "Epoch [2/10], Train Loss: 1.9849\n",
      "Test Accuracy of the model on the 10000 test images: 29.33%\n"
     ]
    },
    {
     "name": "stderr",
     "output_type": "stream",
     "text": [
      " 20%|██        | 2/10 [00:23<01:37, 12.24s/it]"
     ]
    },
    {
     "name": "stdout",
     "output_type": "stream",
     "text": [
      "Epoch [3/10], Train Loss: 1.7238\n",
      "Test Accuracy of the model on the 10000 test images: 32.64%\n"
     ]
    },
    {
     "name": "stderr",
     "output_type": "stream",
     "text": [
      " 30%|███       | 3/10 [00:38<01:34, 13.44s/it]"
     ]
    },
    {
     "name": "stdout",
     "output_type": "stream",
     "text": [
      "Epoch [4/10], Train Loss: 1.2221\n",
      "Test Accuracy of the model on the 10000 test images: 33.84%\n"
     ]
    },
    {
     "name": "stderr",
     "output_type": "stream",
     "text": [
      " 40%|████      | 4/10 [00:53<01:24, 14.04s/it]"
     ]
    },
    {
     "name": "stdout",
     "output_type": "stream",
     "text": [
      "Epoch [5/10], Train Loss: 0.9167\n",
      "Test Accuracy of the model on the 10000 test images: 34.38%\n"
     ]
    },
    {
     "name": "stderr",
     "output_type": "stream",
     "text": [
      " 50%|█████     | 5/10 [01:08<01:12, 14.42s/it]"
     ]
    },
    {
     "name": "stdout",
     "output_type": "stream",
     "text": [
      "Epoch [6/10], Train Loss: 0.7040\n",
      "Test Accuracy of the model on the 10000 test images: 33.93%\n"
     ]
    },
    {
     "name": "stderr",
     "output_type": "stream",
     "text": [
      " 60%|██████    | 6/10 [01:23<00:58, 14.60s/it]"
     ]
    },
    {
     "name": "stdout",
     "output_type": "stream",
     "text": [
      "Epoch [7/10], Train Loss: 0.4309\n",
      "Test Accuracy of the model on the 10000 test images: 34.42%\n"
     ]
    },
    {
     "name": "stderr",
     "output_type": "stream",
     "text": [
      " 70%|███████   | 7/10 [01:38<00:44, 14.73s/it]"
     ]
    },
    {
     "name": "stdout",
     "output_type": "stream",
     "text": [
      "Epoch [8/10], Train Loss: 0.3953\n",
      "Test Accuracy of the model on the 10000 test images: 33.25%\n"
     ]
    },
    {
     "name": "stderr",
     "output_type": "stream",
     "text": [
      " 80%|████████  | 8/10 [01:53<00:29, 14.84s/it]"
     ]
    },
    {
     "name": "stdout",
     "output_type": "stream",
     "text": [
      "Epoch [9/10], Train Loss: 0.1843\n",
      "Test Accuracy of the model on the 10000 test images: 35.07%\n"
     ]
    },
    {
     "name": "stderr",
     "output_type": "stream",
     "text": [
      " 90%|█████████ | 9/10 [02:08<00:14, 14.92s/it]"
     ]
    },
    {
     "name": "stdout",
     "output_type": "stream",
     "text": [
      "Epoch [10/10], Train Loss: 0.1630\n",
      "Test Accuracy of the model on the 10000 test images: 34.76%\n"
     ]
    },
    {
     "name": "stderr",
     "output_type": "stream",
     "text": [
      "100%|██████████| 10/10 [02:23<00:00, 14.33s/it]\n"
     ]
    },
    {
     "name": "stdout",
     "output_type": "stream",
     "text": [
      "Running experiment for config: {'model': 'MLP', 'dataset': 'CIFAR10', 'hidden_sizes': [1000, 1000, 1000, 1000, 1000, 1000, 1000, 1000, 1000, 1000], 'batch_size': 512, 'learning_rate': 0.01, 'num_epochs': 10, 'rerun': 1, 'activation': 'Identity', 'normalization': 'LN'}\n",
      "Files already downloaded and verified\n",
      "Files already downloaded and verified\n"
     ]
    },
    {
     "name": "stderr",
     "output_type": "stream",
     "text": [
      "  0%|          | 0/10 [00:00<?, ?it/s]"
     ]
    },
    {
     "name": "stdout",
     "output_type": "stream",
     "text": [
      "Test Accuracy of the model on the 10000 test images: 8.90%\n"
     ]
    },
    {
     "name": "stderr",
     "output_type": "stream",
     "text": [
      " 10%|█         | 1/10 [00:09<01:27,  9.77s/it]"
     ]
    },
    {
     "name": "stdout",
     "output_type": "stream",
     "text": [
      "Epoch [2/10], Train Loss: 1.8790\n",
      "Test Accuracy of the model on the 10000 test images: 35.48%\n"
     ]
    },
    {
     "name": "stderr",
     "output_type": "stream",
     "text": [
      " 20%|██        | 2/10 [00:26<01:50, 13.76s/it]"
     ]
    },
    {
     "name": "stdout",
     "output_type": "stream",
     "text": [
      "Epoch [3/10], Train Loss: 1.7240\n",
      "Test Accuracy of the model on the 10000 test images: 38.31%\n"
     ]
    },
    {
     "name": "stderr",
     "output_type": "stream",
     "text": [
      " 30%|███       | 3/10 [00:42<01:45, 15.04s/it]"
     ]
    },
    {
     "name": "stdout",
     "output_type": "stream",
     "text": [
      "Epoch [4/10], Train Loss: 1.7100\n",
      "Test Accuracy of the model on the 10000 test images: 38.68%\n"
     ]
    },
    {
     "name": "stderr",
     "output_type": "stream",
     "text": [
      " 40%|████      | 4/10 [00:59<01:33, 15.58s/it]"
     ]
    },
    {
     "name": "stdout",
     "output_type": "stream",
     "text": [
      "Epoch [5/10], Train Loss: 1.7842\n",
      "Test Accuracy of the model on the 10000 test images: 38.07%\n"
     ]
    },
    {
     "name": "stderr",
     "output_type": "stream",
     "text": [
      " 50%|█████     | 5/10 [01:15<01:19, 15.88s/it]"
     ]
    },
    {
     "name": "stdout",
     "output_type": "stream",
     "text": [
      "Epoch [6/10], Train Loss: 1.8007\n",
      "Test Accuracy of the model on the 10000 test images: 38.51%\n"
     ]
    },
    {
     "name": "stderr",
     "output_type": "stream",
     "text": [
      " 60%|██████    | 6/10 [01:32<01:04, 16.05s/it]"
     ]
    },
    {
     "name": "stdout",
     "output_type": "stream",
     "text": [
      "Epoch [7/10], Train Loss: 1.7421\n",
      "Test Accuracy of the model on the 10000 test images: 38.49%\n"
     ]
    },
    {
     "name": "stderr",
     "output_type": "stream",
     "text": [
      " 70%|███████   | 7/10 [01:48<00:48, 16.17s/it]"
     ]
    },
    {
     "name": "stdout",
     "output_type": "stream",
     "text": [
      "Epoch [8/10], Train Loss: 1.8152\n",
      "Test Accuracy of the model on the 10000 test images: 38.75%\n"
     ]
    },
    {
     "name": "stderr",
     "output_type": "stream",
     "text": [
      " 80%|████████  | 8/10 [02:04<00:32, 16.20s/it]"
     ]
    },
    {
     "name": "stdout",
     "output_type": "stream",
     "text": [
      "Epoch [9/10], Train Loss: 1.5901\n",
      "Test Accuracy of the model on the 10000 test images: 38.76%\n"
     ]
    },
    {
     "name": "stderr",
     "output_type": "stream",
     "text": [
      " 90%|█████████ | 9/10 [02:21<00:16, 16.23s/it]"
     ]
    },
    {
     "name": "stdout",
     "output_type": "stream",
     "text": [
      "Epoch [10/10], Train Loss: 1.6454\n",
      "Test Accuracy of the model on the 10000 test images: 38.65%\n"
     ]
    },
    {
     "name": "stderr",
     "output_type": "stream",
     "text": [
      "100%|██████████| 10/10 [02:37<00:00, 15.77s/it]\n"
     ]
    },
    {
     "name": "stdout",
     "output_type": "stream",
     "text": [
      "Running experiment for config: {'model': 'MLP', 'dataset': 'CIFAR10', 'hidden_sizes': [1000, 1000, 1000, 1000, 1000, 1000, 1000, 1000, 1000, 1000], 'batch_size': 512, 'learning_rate': 0.01, 'num_epochs': 10, 'rerun': 1, 'activation': 'PReLU', 'normalization': 'LN'}\n",
      "Files already downloaded and verified\n",
      "Files already downloaded and verified\n"
     ]
    },
    {
     "name": "stderr",
     "output_type": "stream",
     "text": [
      "  0%|          | 0/10 [00:00<?, ?it/s]"
     ]
    },
    {
     "name": "stdout",
     "output_type": "stream",
     "text": [
      "Test Accuracy of the model on the 10000 test images: 10.94%\n"
     ]
    },
    {
     "name": "stderr",
     "output_type": "stream",
     "text": [
      " 10%|█         | 1/10 [00:08<01:16,  8.47s/it]"
     ]
    },
    {
     "name": "stdout",
     "output_type": "stream",
     "text": [
      "Epoch [2/10], Train Loss: 1.6474\n",
      "Test Accuracy of the model on the 10000 test images: 41.04%\n"
     ]
    },
    {
     "name": "stderr",
     "output_type": "stream",
     "text": [
      " 20%|██        | 2/10 [00:23<01:39, 12.47s/it]"
     ]
    },
    {
     "name": "stdout",
     "output_type": "stream",
     "text": [
      "Epoch [3/10], Train Loss: 1.4290\n",
      "Test Accuracy of the model on the 10000 test images: 43.79%\n"
     ]
    },
    {
     "name": "stderr",
     "output_type": "stream",
     "text": [
      " 30%|███       | 3/10 [00:38<01:36, 13.73s/it]"
     ]
    },
    {
     "name": "stdout",
     "output_type": "stream",
     "text": [
      "Epoch [4/10], Train Loss: 1.2319\n",
      "Test Accuracy of the model on the 10000 test images: 45.48%\n"
     ]
    },
    {
     "name": "stderr",
     "output_type": "stream",
     "text": [
      " 40%|████      | 4/10 [00:54<01:25, 14.33s/it]"
     ]
    },
    {
     "name": "stdout",
     "output_type": "stream",
     "text": [
      "Epoch [5/10], Train Loss: 1.0722\n",
      "Test Accuracy of the model on the 10000 test images: 46.12%\n"
     ]
    },
    {
     "name": "stderr",
     "output_type": "stream",
     "text": [
      " 50%|█████     | 5/10 [01:09<01:13, 14.60s/it]"
     ]
    },
    {
     "name": "stdout",
     "output_type": "stream",
     "text": [
      "Epoch [6/10], Train Loss: 0.9906\n",
      "Test Accuracy of the model on the 10000 test images: 45.08%\n"
     ]
    },
    {
     "name": "stderr",
     "output_type": "stream",
     "text": [
      " 60%|██████    | 6/10 [01:24<00:59, 14.87s/it]"
     ]
    },
    {
     "name": "stdout",
     "output_type": "stream",
     "text": [
      "Epoch [7/10], Train Loss: 0.7493\n",
      "Test Accuracy of the model on the 10000 test images: 45.18%\n"
     ]
    },
    {
     "name": "stderr",
     "output_type": "stream",
     "text": [
      " 70%|███████   | 7/10 [01:39<00:45, 15.01s/it]"
     ]
    },
    {
     "name": "stdout",
     "output_type": "stream",
     "text": [
      "Epoch [8/10], Train Loss: 0.6328\n",
      "Test Accuracy of the model on the 10000 test images: 43.97%\n"
     ]
    },
    {
     "name": "stderr",
     "output_type": "stream",
     "text": [
      " 80%|████████  | 8/10 [01:55<00:30, 15.13s/it]"
     ]
    },
    {
     "name": "stdout",
     "output_type": "stream",
     "text": [
      "Epoch [9/10], Train Loss: 0.3959\n",
      "Test Accuracy of the model on the 10000 test images: 44.47%\n"
     ]
    },
    {
     "name": "stderr",
     "output_type": "stream",
     "text": [
      " 90%|█████████ | 9/10 [02:10<00:15, 15.24s/it]"
     ]
    },
    {
     "name": "stdout",
     "output_type": "stream",
     "text": [
      "Epoch [10/10], Train Loss: 0.2513\n",
      "Test Accuracy of the model on the 10000 test images: 44.73%\n"
     ]
    },
    {
     "name": "stderr",
     "output_type": "stream",
     "text": [
      "100%|██████████| 10/10 [02:26<00:00, 14.62s/it]\n"
     ]
    },
    {
     "name": "stdout",
     "output_type": "stream",
     "text": [
      "Running experiment for config: {'model': 'MLP', 'dataset': 'CIFAR10', 'hidden_sizes': [1000, 1000, 1000, 1000, 1000, 1000, 1000, 1000, 1000, 1000], 'batch_size': 512, 'learning_rate': 0.01, 'num_epochs': 10, 'rerun': 1, 'activation': 'Tanh', 'normalization': 'LN'}\n",
      "Files already downloaded and verified\n",
      "Files already downloaded and verified\n"
     ]
    },
    {
     "name": "stderr",
     "output_type": "stream",
     "text": [
      "  0%|          | 0/10 [00:00<?, ?it/s]"
     ]
    },
    {
     "name": "stdout",
     "output_type": "stream",
     "text": [
      "Test Accuracy of the model on the 10000 test images: 8.43%\n"
     ]
    },
    {
     "name": "stderr",
     "output_type": "stream",
     "text": [
      " 10%|█         | 1/10 [00:08<01:16,  8.55s/it]"
     ]
    },
    {
     "name": "stdout",
     "output_type": "stream",
     "text": [
      "Epoch [2/10], Train Loss: 1.8016\n",
      "Test Accuracy of the model on the 10000 test images: 36.41%\n"
     ]
    },
    {
     "name": "stderr",
     "output_type": "stream",
     "text": [
      " 20%|██        | 2/10 [00:23<01:39, 12.39s/it]"
     ]
    },
    {
     "name": "stdout",
     "output_type": "stream",
     "text": [
      "Epoch [3/10], Train Loss: 1.5518\n",
      "Test Accuracy of the model on the 10000 test images: 39.88%\n"
     ]
    },
    {
     "name": "stderr",
     "output_type": "stream",
     "text": [
      " 30%|███       | 3/10 [00:38<01:35, 13.71s/it]"
     ]
    },
    {
     "name": "stdout",
     "output_type": "stream",
     "text": [
      "Epoch [4/10], Train Loss: 1.4738\n",
      "Test Accuracy of the model on the 10000 test images: 40.60%\n"
     ]
    },
    {
     "name": "stderr",
     "output_type": "stream",
     "text": [
      " 40%|████      | 4/10 [00:53<01:25, 14.23s/it]"
     ]
    },
    {
     "name": "stdout",
     "output_type": "stream",
     "text": [
      "Epoch [5/10], Train Loss: 1.1798\n",
      "Test Accuracy of the model on the 10000 test images: 41.10%\n"
     ]
    },
    {
     "name": "stderr",
     "output_type": "stream",
     "text": [
      " 50%|█████     | 5/10 [01:08<01:12, 14.52s/it]"
     ]
    },
    {
     "name": "stdout",
     "output_type": "stream",
     "text": [
      "Epoch [6/10], Train Loss: 1.1445\n",
      "Test Accuracy of the model on the 10000 test images: 41.33%\n"
     ]
    },
    {
     "name": "stderr",
     "output_type": "stream",
     "text": [
      " 60%|██████    | 6/10 [01:24<00:59, 14.81s/it]"
     ]
    },
    {
     "name": "stdout",
     "output_type": "stream",
     "text": [
      "Epoch [7/10], Train Loss: 0.9228\n",
      "Test Accuracy of the model on the 10000 test images: 41.33%\n"
     ]
    },
    {
     "name": "stderr",
     "output_type": "stream",
     "text": [
      " 70%|███████   | 7/10 [01:39<00:45, 15.01s/it]"
     ]
    },
    {
     "name": "stdout",
     "output_type": "stream",
     "text": [
      "Epoch [8/10], Train Loss: 0.8669\n",
      "Test Accuracy of the model on the 10000 test images: 39.62%\n"
     ]
    },
    {
     "name": "stderr",
     "output_type": "stream",
     "text": [
      " 80%|████████  | 8/10 [01:54<00:30, 15.07s/it]"
     ]
    },
    {
     "name": "stdout",
     "output_type": "stream",
     "text": [
      "Epoch [9/10], Train Loss: 0.7299\n",
      "Test Accuracy of the model on the 10000 test images: 41.52%\n"
     ]
    },
    {
     "name": "stderr",
     "output_type": "stream",
     "text": [
      " 90%|█████████ | 9/10 [02:10<00:15, 15.13s/it]"
     ]
    },
    {
     "name": "stdout",
     "output_type": "stream",
     "text": [
      "Epoch [10/10], Train Loss: 0.7261\n",
      "Test Accuracy of the model on the 10000 test images: 39.56%\n"
     ]
    },
    {
     "name": "stderr",
     "output_type": "stream",
     "text": [
      "100%|██████████| 10/10 [02:25<00:00, 14.55s/it]\n"
     ]
    },
    {
     "name": "stdout",
     "output_type": "stream",
     "text": [
      "Running experiment for config: {'model': 'MLP', 'dataset': 'CIFAR10', 'hidden_sizes': [1000, 1000, 1000, 1000, 1000, 1000, 1000, 1000, 1000, 1000], 'batch_size': 512, 'learning_rate': 0.01, 'num_epochs': 10, 'rerun': 1, 'activation': 'SELU', 'normalization': 'LN'}\n",
      "Files already downloaded and verified\n",
      "Files already downloaded and verified\n"
     ]
    },
    {
     "name": "stderr",
     "output_type": "stream",
     "text": [
      "  0%|          | 0/10 [00:00<?, ?it/s]"
     ]
    },
    {
     "name": "stdout",
     "output_type": "stream",
     "text": [
      "Test Accuracy of the model on the 10000 test images: 8.11%\n"
     ]
    },
    {
     "name": "stderr",
     "output_type": "stream",
     "text": [
      " 10%|█         | 1/10 [00:08<01:19,  8.81s/it]"
     ]
    },
    {
     "name": "stdout",
     "output_type": "stream",
     "text": [
      "Epoch [2/10], Train Loss: 1.7155\n",
      "Test Accuracy of the model on the 10000 test images: 41.57%\n"
     ]
    },
    {
     "name": "stderr",
     "output_type": "stream",
     "text": [
      " 20%|██        | 2/10 [00:24<01:42, 12.83s/it]"
     ]
    },
    {
     "name": "stdout",
     "output_type": "stream",
     "text": [
      "Epoch [3/10], Train Loss: 1.5198\n",
      "Test Accuracy of the model on the 10000 test images: 44.03%\n"
     ]
    },
    {
     "name": "stderr",
     "output_type": "stream",
     "text": [
      " 30%|███       | 3/10 [00:39<01:38, 14.05s/it]"
     ]
    },
    {
     "name": "stdout",
     "output_type": "stream",
     "text": [
      "Epoch [4/10], Train Loss: 1.4060\n",
      "Test Accuracy of the model on the 10000 test images: 45.28%\n"
     ]
    },
    {
     "name": "stderr",
     "output_type": "stream",
     "text": [
      " 40%|████      | 4/10 [00:55<01:27, 14.61s/it]"
     ]
    },
    {
     "name": "stdout",
     "output_type": "stream",
     "text": [
      "Epoch [5/10], Train Loss: 1.3367\n",
      "Test Accuracy of the model on the 10000 test images: 46.02%\n"
     ]
    },
    {
     "name": "stderr",
     "output_type": "stream",
     "text": [
      " 50%|█████     | 5/10 [01:11<01:14, 14.96s/it]"
     ]
    },
    {
     "name": "stdout",
     "output_type": "stream",
     "text": [
      "Epoch [6/10], Train Loss: 1.2932\n",
      "Test Accuracy of the model on the 10000 test images: 47.40%\n"
     ]
    },
    {
     "name": "stderr",
     "output_type": "stream",
     "text": [
      " 60%|██████    | 6/10 [01:26<01:00, 15.19s/it]"
     ]
    },
    {
     "name": "stdout",
     "output_type": "stream",
     "text": [
      "Epoch [7/10], Train Loss: 1.2110\n",
      "Test Accuracy of the model on the 10000 test images: 47.41%\n"
     ]
    },
    {
     "name": "stderr",
     "output_type": "stream",
     "text": [
      " 70%|███████   | 7/10 [01:42<00:45, 15.30s/it]"
     ]
    },
    {
     "name": "stdout",
     "output_type": "stream",
     "text": [
      "Epoch [8/10], Train Loss: 1.2410\n",
      "Test Accuracy of the model on the 10000 test images: 46.92%\n"
     ]
    },
    {
     "name": "stderr",
     "output_type": "stream",
     "text": [
      " 80%|████████  | 8/10 [01:57<00:30, 15.36s/it]"
     ]
    },
    {
     "name": "stdout",
     "output_type": "stream",
     "text": [
      "Epoch [9/10], Train Loss: 0.9937\n",
      "Test Accuracy of the model on the 10000 test images: 48.20%\n"
     ]
    },
    {
     "name": "stderr",
     "output_type": "stream",
     "text": [
      " 90%|█████████ | 9/10 [02:13<00:15, 15.40s/it]"
     ]
    },
    {
     "name": "stdout",
     "output_type": "stream",
     "text": [
      "Epoch [10/10], Train Loss: 0.8801\n",
      "Test Accuracy of the model on the 10000 test images: 47.66%\n"
     ]
    },
    {
     "name": "stderr",
     "output_type": "stream",
     "text": [
      "100%|██████████| 10/10 [02:28<00:00, 14.87s/it]\n"
     ]
    },
    {
     "name": "stdout",
     "output_type": "stream",
     "text": [
      "Running experiment for config: {'model': 'MLP', 'dataset': 'CIFAR10', 'hidden_sizes': [1000, 1000, 1000, 1000, 1000, 1000, 1000, 1000, 1000, 1000], 'batch_size': 512, 'learning_rate': 0.01, 'num_epochs': 10, 'rerun': 1, 'activation': 'SiLU', 'normalization': 'LN'}\n",
      "Files already downloaded and verified\n",
      "Files already downloaded and verified\n"
     ]
    },
    {
     "name": "stderr",
     "output_type": "stream",
     "text": [
      "  0%|          | 0/10 [00:00<?, ?it/s]"
     ]
    },
    {
     "name": "stdout",
     "output_type": "stream",
     "text": [
      "Test Accuracy of the model on the 10000 test images: 9.80%\n"
     ]
    },
    {
     "name": "stderr",
     "output_type": "stream",
     "text": [
      " 10%|█         | 1/10 [00:08<01:15,  8.34s/it]"
     ]
    },
    {
     "name": "stdout",
     "output_type": "stream",
     "text": [
      "Epoch [2/10], Train Loss: 1.7769\n",
      "Test Accuracy of the model on the 10000 test images: 38.75%\n"
     ]
    },
    {
     "name": "stderr",
     "output_type": "stream",
     "text": [
      " 20%|██        | 2/10 [00:23<01:39, 12.38s/it]"
     ]
    },
    {
     "name": "stdout",
     "output_type": "stream",
     "text": [
      "Epoch [3/10], Train Loss: 1.4710\n",
      "Test Accuracy of the model on the 10000 test images: 41.36%\n"
     ]
    },
    {
     "name": "stderr",
     "output_type": "stream",
     "text": [
      " 30%|███       | 3/10 [00:38<01:35, 13.69s/it]"
     ]
    },
    {
     "name": "stdout",
     "output_type": "stream",
     "text": [
      "Epoch [4/10], Train Loss: 1.2377\n",
      "Test Accuracy of the model on the 10000 test images: 43.17%\n"
     ]
    },
    {
     "name": "stderr",
     "output_type": "stream",
     "text": [
      " 40%|████      | 4/10 [00:53<01:25, 14.25s/it]"
     ]
    },
    {
     "name": "stdout",
     "output_type": "stream",
     "text": [
      "Epoch [5/10], Train Loss: 1.0918\n",
      "Test Accuracy of the model on the 10000 test images: 43.72%\n"
     ]
    },
    {
     "name": "stderr",
     "output_type": "stream",
     "text": [
      " 50%|█████     | 5/10 [01:09<01:12, 14.56s/it]"
     ]
    },
    {
     "name": "stdout",
     "output_type": "stream",
     "text": [
      "Epoch [6/10], Train Loss: 0.7749\n",
      "Test Accuracy of the model on the 10000 test images: 43.63%\n"
     ]
    },
    {
     "name": "stderr",
     "output_type": "stream",
     "text": [
      " 60%|██████    | 6/10 [01:23<00:58, 14.69s/it]"
     ]
    },
    {
     "name": "stdout",
     "output_type": "stream",
     "text": [
      "Epoch [7/10], Train Loss: 0.5493\n",
      "Test Accuracy of the model on the 10000 test images: 44.15%\n"
     ]
    },
    {
     "name": "stderr",
     "output_type": "stream",
     "text": [
      " 70%|███████   | 7/10 [01:38<00:44, 14.77s/it]"
     ]
    },
    {
     "name": "stdout",
     "output_type": "stream",
     "text": [
      "Epoch [8/10], Train Loss: 0.4541\n",
      "Test Accuracy of the model on the 10000 test images: 43.24%\n"
     ]
    },
    {
     "name": "stderr",
     "output_type": "stream",
     "text": [
      " 80%|████████  | 8/10 [01:53<00:29, 14.83s/it]"
     ]
    },
    {
     "name": "stdout",
     "output_type": "stream",
     "text": [
      "Epoch [9/10], Train Loss: 0.3516\n",
      "Test Accuracy of the model on the 10000 test images: 44.43%\n"
     ]
    },
    {
     "name": "stderr",
     "output_type": "stream",
     "text": [
      " 90%|█████████ | 9/10 [02:08<00:14, 14.91s/it]"
     ]
    },
    {
     "name": "stdout",
     "output_type": "stream",
     "text": [
      "Epoch [10/10], Train Loss: 0.2418\n",
      "Test Accuracy of the model on the 10000 test images: 43.26%\n"
     ]
    },
    {
     "name": "stderr",
     "output_type": "stream",
     "text": [
      "100%|██████████| 10/10 [02:24<00:00, 14.41s/it]\n"
     ]
    },
    {
     "name": "stdout",
     "output_type": "stream",
     "text": [
      "Running experiment for config: {'model': 'MLP', 'dataset': 'CIFAR10', 'hidden_sizes': [1000, 1000, 1000, 1000, 1000, 1000, 1000, 1000, 1000, 1000], 'batch_size': 512, 'learning_rate': 0.01, 'num_epochs': 10, 'rerun': 1, 'activation': 'ELU', 'normalization': 'LN'}\n",
      "Files already downloaded and verified\n",
      "Files already downloaded and verified\n"
     ]
    },
    {
     "name": "stderr",
     "output_type": "stream",
     "text": [
      "  0%|          | 0/10 [00:00<?, ?it/s]"
     ]
    },
    {
     "name": "stdout",
     "output_type": "stream",
     "text": [
      "Test Accuracy of the model on the 10000 test images: 9.06%\n"
     ]
    },
    {
     "name": "stderr",
     "output_type": "stream",
     "text": [
      " 10%|█         | 1/10 [00:08<01:17,  8.67s/it]"
     ]
    },
    {
     "name": "stdout",
     "output_type": "stream",
     "text": [
      "Epoch [2/10], Train Loss: 1.5681\n",
      "Test Accuracy of the model on the 10000 test images: 43.28%\n"
     ]
    },
    {
     "name": "stderr",
     "output_type": "stream",
     "text": [
      " 20%|██        | 2/10 [00:24<01:41, 12.74s/it]"
     ]
    },
    {
     "name": "stdout",
     "output_type": "stream",
     "text": [
      "Epoch [3/10], Train Loss: 1.4475\n",
      "Test Accuracy of the model on the 10000 test images: 45.75%\n"
     ]
    },
    {
     "name": "stderr",
     "output_type": "stream",
     "text": [
      " 30%|███       | 3/10 [00:39<01:37, 13.98s/it]"
     ]
    },
    {
     "name": "stdout",
     "output_type": "stream",
     "text": [
      "Epoch [4/10], Train Loss: 1.2748\n",
      "Test Accuracy of the model on the 10000 test images: 47.40%\n"
     ]
    },
    {
     "name": "stderr",
     "output_type": "stream",
     "text": [
      " 40%|████      | 4/10 [00:55<01:27, 14.54s/it]"
     ]
    },
    {
     "name": "stdout",
     "output_type": "stream",
     "text": [
      "Epoch [5/10], Train Loss: 1.2319\n",
      "Test Accuracy of the model on the 10000 test images: 47.20%\n"
     ]
    },
    {
     "name": "stderr",
     "output_type": "stream",
     "text": [
      " 50%|█████     | 5/10 [01:10<01:14, 14.85s/it]"
     ]
    },
    {
     "name": "stdout",
     "output_type": "stream",
     "text": [
      "Epoch [6/10], Train Loss: 1.1015\n",
      "Test Accuracy of the model on the 10000 test images: 48.73%\n"
     ]
    },
    {
     "name": "stderr",
     "output_type": "stream",
     "text": [
      " 60%|██████    | 6/10 [01:25<01:00, 15.06s/it]"
     ]
    },
    {
     "name": "stdout",
     "output_type": "stream",
     "text": [
      "Epoch [7/10], Train Loss: 1.0718\n",
      "Test Accuracy of the model on the 10000 test images: 48.65%\n"
     ]
    },
    {
     "name": "stderr",
     "output_type": "stream",
     "text": [
      " 70%|███████   | 7/10 [01:41<00:45, 15.19s/it]"
     ]
    },
    {
     "name": "stdout",
     "output_type": "stream",
     "text": [
      "Epoch [8/10], Train Loss: 0.9668\n",
      "Test Accuracy of the model on the 10000 test images: 48.99%\n"
     ]
    },
    {
     "name": "stderr",
     "output_type": "stream",
     "text": [
      " 80%|████████  | 8/10 [01:56<00:30, 15.25s/it]"
     ]
    },
    {
     "name": "stdout",
     "output_type": "stream",
     "text": [
      "Epoch [9/10], Train Loss: 0.9973\n",
      "Test Accuracy of the model on the 10000 test images: 48.58%\n"
     ]
    },
    {
     "name": "stderr",
     "output_type": "stream",
     "text": [
      " 90%|█████████ | 9/10 [02:12<00:15, 15.33s/it]"
     ]
    },
    {
     "name": "stdout",
     "output_type": "stream",
     "text": [
      "Epoch [10/10], Train Loss: 0.8439\n",
      "Test Accuracy of the model on the 10000 test images: 48.13%\n"
     ]
    },
    {
     "name": "stderr",
     "output_type": "stream",
     "text": [
      "100%|██████████| 10/10 [02:27<00:00, 14.75s/it]\n"
     ]
    },
    {
     "name": "stdout",
     "output_type": "stream",
     "text": [
      "Running experiment for config: {'model': 'MLP', 'dataset': 'CIFAR10', 'hidden_sizes': [1000, 1000, 1000, 1000, 1000, 1000, 1000, 1000, 1000, 1000], 'batch_size': 512, 'learning_rate': 0.01, 'num_epochs': 10, 'rerun': 1, 'activation': 'GELU', 'normalization': 'LN'}\n",
      "Files already downloaded and verified\n",
      "Files already downloaded and verified\n"
     ]
    },
    {
     "name": "stderr",
     "output_type": "stream",
     "text": [
      "  0%|          | 0/10 [00:00<?, ?it/s]"
     ]
    },
    {
     "name": "stdout",
     "output_type": "stream",
     "text": [
      "Test Accuracy of the model on the 10000 test images: 10.05%\n"
     ]
    },
    {
     "name": "stderr",
     "output_type": "stream",
     "text": [
      " 10%|█         | 1/10 [00:08<01:14,  8.24s/it]"
     ]
    },
    {
     "name": "stdout",
     "output_type": "stream",
     "text": [
      "Epoch [2/10], Train Loss: 1.8052\n",
      "Test Accuracy of the model on the 10000 test images: 34.54%\n"
     ]
    },
    {
     "name": "stderr",
     "output_type": "stream",
     "text": [
      " 20%|██        | 2/10 [00:23<01:36, 12.11s/it]"
     ]
    },
    {
     "name": "stdout",
     "output_type": "stream",
     "text": [
      "Epoch [3/10], Train Loss: 1.4399\n",
      "Test Accuracy of the model on the 10000 test images: 35.93%\n"
     ]
    },
    {
     "name": "stderr",
     "output_type": "stream",
     "text": [
      " 30%|███       | 3/10 [00:37<01:33, 13.37s/it]"
     ]
    },
    {
     "name": "stdout",
     "output_type": "stream",
     "text": [
      "Epoch [4/10], Train Loss: 1.0478\n",
      "Test Accuracy of the model on the 10000 test images: 37.60%\n"
     ]
    },
    {
     "name": "stderr",
     "output_type": "stream",
     "text": [
      " 40%|████      | 4/10 [00:52<01:23, 13.99s/it]"
     ]
    },
    {
     "name": "stdout",
     "output_type": "stream",
     "text": [
      "Epoch [5/10], Train Loss: 0.8165\n",
      "Test Accuracy of the model on the 10000 test images: 37.89%\n"
     ]
    },
    {
     "name": "stderr",
     "output_type": "stream",
     "text": [
      " 50%|█████     | 5/10 [01:07<01:11, 14.35s/it]"
     ]
    },
    {
     "name": "stdout",
     "output_type": "stream",
     "text": [
      "Epoch [6/10], Train Loss: 0.5273\n",
      "Test Accuracy of the model on the 10000 test images: 37.80%\n"
     ]
    },
    {
     "name": "stderr",
     "output_type": "stream",
     "text": [
      " 60%|██████    | 6/10 [01:22<00:58, 14.56s/it]"
     ]
    },
    {
     "name": "stdout",
     "output_type": "stream",
     "text": [
      "Epoch [7/10], Train Loss: 0.3384\n",
      "Test Accuracy of the model on the 10000 test images: 37.87%\n"
     ]
    },
    {
     "name": "stderr",
     "output_type": "stream",
     "text": [
      " 70%|███████   | 7/10 [01:37<00:44, 14.70s/it]"
     ]
    },
    {
     "name": "stdout",
     "output_type": "stream",
     "text": [
      "Epoch [8/10], Train Loss: 0.2488\n",
      "Test Accuracy of the model on the 10000 test images: 37.81%\n"
     ]
    },
    {
     "name": "stderr",
     "output_type": "stream",
     "text": [
      " 80%|████████  | 8/10 [01:52<00:29, 14.76s/it]"
     ]
    },
    {
     "name": "stdout",
     "output_type": "stream",
     "text": [
      "Epoch [9/10], Train Loss: 0.1938\n",
      "Test Accuracy of the model on the 10000 test images: 37.56%\n"
     ]
    },
    {
     "name": "stderr",
     "output_type": "stream",
     "text": [
      " 90%|█████████ | 9/10 [02:07<00:14, 14.81s/it]"
     ]
    },
    {
     "name": "stdout",
     "output_type": "stream",
     "text": [
      "Epoch [10/10], Train Loss: 0.0933\n",
      "Test Accuracy of the model on the 10000 test images: 38.09%\n"
     ]
    },
    {
     "name": "stderr",
     "output_type": "stream",
     "text": [
      "100%|██████████| 10/10 [02:22<00:00, 14.25s/it]\n"
     ]
    },
    {
     "name": "stdout",
     "output_type": "stream",
     "text": [
      "Running experiment for config: {'model': 'MLP', 'dataset': 'CIFAR10', 'hidden_sizes': [1000, 1000, 1000, 1000, 1000, 1000, 1000, 1000, 1000, 1000], 'batch_size': 512, 'learning_rate': 0.01, 'num_epochs': 10, 'rerun': 2, 'activation': 'ReLU', 'normalization': 'LN'}\n",
      "Files already downloaded and verified\n",
      "Files already downloaded and verified\n"
     ]
    },
    {
     "name": "stderr",
     "output_type": "stream",
     "text": [
      "  0%|          | 0/10 [00:00<?, ?it/s]"
     ]
    },
    {
     "name": "stdout",
     "output_type": "stream",
     "text": [
      "Test Accuracy of the model on the 10000 test images: 10.03%\n"
     ]
    },
    {
     "name": "stderr",
     "output_type": "stream",
     "text": [
      " 10%|█         | 1/10 [00:08<01:14,  8.23s/it]"
     ]
    },
    {
     "name": "stdout",
     "output_type": "stream",
     "text": [
      "Epoch [2/10], Train Loss: 2.1025\n",
      "Test Accuracy of the model on the 10000 test images: 29.99%\n"
     ]
    },
    {
     "name": "stderr",
     "output_type": "stream",
     "text": [
      " 20%|██        | 2/10 [00:23<01:36, 12.11s/it]"
     ]
    },
    {
     "name": "stdout",
     "output_type": "stream",
     "text": [
      "Epoch [3/10], Train Loss: 1.7035\n",
      "Test Accuracy of the model on the 10000 test images: 33.03%\n"
     ]
    },
    {
     "name": "stderr",
     "output_type": "stream",
     "text": [
      " 30%|███       | 3/10 [00:37<01:33, 13.35s/it]"
     ]
    },
    {
     "name": "stdout",
     "output_type": "stream",
     "text": [
      "Epoch [4/10], Train Loss: 1.2899\n",
      "Test Accuracy of the model on the 10000 test images: 34.10%\n"
     ]
    },
    {
     "name": "stderr",
     "output_type": "stream",
     "text": [
      " 40%|████      | 4/10 [00:52<01:23, 13.96s/it]"
     ]
    },
    {
     "name": "stdout",
     "output_type": "stream",
     "text": [
      "Epoch [5/10], Train Loss: 0.9993\n",
      "Test Accuracy of the model on the 10000 test images: 33.82%\n"
     ]
    },
    {
     "name": "stderr",
     "output_type": "stream",
     "text": [
      " 50%|█████     | 5/10 [01:07<01:11, 14.31s/it]"
     ]
    },
    {
     "name": "stdout",
     "output_type": "stream",
     "text": [
      "Epoch [6/10], Train Loss: 0.7209\n",
      "Test Accuracy of the model on the 10000 test images: 34.47%\n"
     ]
    },
    {
     "name": "stderr",
     "output_type": "stream",
     "text": [
      " 60%|██████    | 6/10 [01:22<00:58, 14.51s/it]"
     ]
    },
    {
     "name": "stdout",
     "output_type": "stream",
     "text": [
      "Epoch [7/10], Train Loss: 0.4659\n",
      "Test Accuracy of the model on the 10000 test images: 34.22%\n"
     ]
    },
    {
     "name": "stderr",
     "output_type": "stream",
     "text": [
      " 70%|███████   | 7/10 [01:37<00:43, 14.64s/it]"
     ]
    },
    {
     "name": "stdout",
     "output_type": "stream",
     "text": [
      "Epoch [8/10], Train Loss: 0.3148\n",
      "Test Accuracy of the model on the 10000 test images: 33.94%\n"
     ]
    },
    {
     "name": "stderr",
     "output_type": "stream",
     "text": [
      " 80%|████████  | 8/10 [01:52<00:29, 14.73s/it]"
     ]
    },
    {
     "name": "stdout",
     "output_type": "stream",
     "text": [
      "Epoch [9/10], Train Loss: 0.2130\n",
      "Test Accuracy of the model on the 10000 test images: 33.60%\n"
     ]
    },
    {
     "name": "stderr",
     "output_type": "stream",
     "text": [
      " 90%|█████████ | 9/10 [02:07<00:14, 14.75s/it]"
     ]
    },
    {
     "name": "stdout",
     "output_type": "stream",
     "text": [
      "Epoch [10/10], Train Loss: 0.1457\n",
      "Test Accuracy of the model on the 10000 test images: 34.32%\n"
     ]
    },
    {
     "name": "stderr",
     "output_type": "stream",
     "text": [
      "100%|██████████| 10/10 [02:22<00:00, 14.20s/it]\n"
     ]
    },
    {
     "name": "stdout",
     "output_type": "stream",
     "text": [
      "Running experiment for config: {'model': 'MLP', 'dataset': 'CIFAR10', 'hidden_sizes': [1000, 1000, 1000, 1000, 1000, 1000, 1000, 1000, 1000, 1000], 'batch_size': 512, 'learning_rate': 0.01, 'num_epochs': 10, 'rerun': 2, 'activation': 'Identity', 'normalization': 'LN'}\n",
      "Files already downloaded and verified\n",
      "Files already downloaded and verified\n"
     ]
    },
    {
     "name": "stderr",
     "output_type": "stream",
     "text": [
      "  0%|          | 0/10 [00:00<?, ?it/s]"
     ]
    },
    {
     "name": "stdout",
     "output_type": "stream",
     "text": [
      "Test Accuracy of the model on the 10000 test images: 8.87%\n"
     ]
    },
    {
     "name": "stderr",
     "output_type": "stream",
     "text": [
      " 10%|█         | 1/10 [00:09<01:27,  9.70s/it]"
     ]
    },
    {
     "name": "stdout",
     "output_type": "stream",
     "text": [
      "Epoch [2/10], Train Loss: 1.6532\n",
      "Test Accuracy of the model on the 10000 test images: 36.91%\n"
     ]
    },
    {
     "name": "stderr",
     "output_type": "stream",
     "text": [
      " 20%|██        | 2/10 [00:26<01:48, 13.62s/it]"
     ]
    },
    {
     "name": "stdout",
     "output_type": "stream",
     "text": [
      "Epoch [3/10], Train Loss: 1.7593\n",
      "Test Accuracy of the model on the 10000 test images: 37.25%\n"
     ]
    },
    {
     "name": "stderr",
     "output_type": "stream",
     "text": [
      " 30%|███       | 3/10 [00:42<01:43, 14.85s/it]"
     ]
    },
    {
     "name": "stdout",
     "output_type": "stream",
     "text": [
      "Epoch [4/10], Train Loss: 1.7408\n",
      "Test Accuracy of the model on the 10000 test images: 37.66%\n"
     ]
    },
    {
     "name": "stderr",
     "output_type": "stream",
     "text": [
      " 40%|████      | 4/10 [00:58<01:32, 15.45s/it]"
     ]
    },
    {
     "name": "stdout",
     "output_type": "stream",
     "text": [
      "Epoch [5/10], Train Loss: 1.7364\n",
      "Test Accuracy of the model on the 10000 test images: 38.42%\n"
     ]
    },
    {
     "name": "stderr",
     "output_type": "stream",
     "text": [
      " 50%|█████     | 5/10 [01:14<01:18, 15.73s/it]"
     ]
    },
    {
     "name": "stdout",
     "output_type": "stream",
     "text": [
      "Epoch [6/10], Train Loss: 1.6692\n",
      "Test Accuracy of the model on the 10000 test images: 38.62%\n"
     ]
    },
    {
     "name": "stderr",
     "output_type": "stream",
     "text": [
      " 60%|██████    | 6/10 [01:31<01:03, 15.95s/it]"
     ]
    },
    {
     "name": "stdout",
     "output_type": "stream",
     "text": [
      "Epoch [7/10], Train Loss: 1.7611\n",
      "Test Accuracy of the model on the 10000 test images: 39.20%\n"
     ]
    },
    {
     "name": "stderr",
     "output_type": "stream",
     "text": [
      " 70%|███████   | 7/10 [01:47<00:48, 16.12s/it]"
     ]
    },
    {
     "name": "stdout",
     "output_type": "stream",
     "text": [
      "Epoch [8/10], Train Loss: 1.5945\n",
      "Test Accuracy of the model on the 10000 test images: 39.20%\n"
     ]
    },
    {
     "name": "stderr",
     "output_type": "stream",
     "text": [
      " 80%|████████  | 8/10 [02:04<00:32, 16.24s/it]"
     ]
    },
    {
     "name": "stdout",
     "output_type": "stream",
     "text": [
      "Epoch [9/10], Train Loss: 1.6584\n",
      "Test Accuracy of the model on the 10000 test images: 38.53%\n"
     ]
    },
    {
     "name": "stderr",
     "output_type": "stream",
     "text": [
      " 90%|█████████ | 9/10 [02:20<00:16, 16.29s/it]"
     ]
    },
    {
     "name": "stdout",
     "output_type": "stream",
     "text": [
      "Epoch [10/10], Train Loss: 1.5775\n",
      "Test Accuracy of the model on the 10000 test images: 39.84%\n"
     ]
    },
    {
     "name": "stderr",
     "output_type": "stream",
     "text": [
      "100%|██████████| 10/10 [02:37<00:00, 15.72s/it]\n"
     ]
    },
    {
     "name": "stdout",
     "output_type": "stream",
     "text": [
      "Running experiment for config: {'model': 'MLP', 'dataset': 'CIFAR10', 'hidden_sizes': [1000, 1000, 1000, 1000, 1000, 1000, 1000, 1000, 1000, 1000], 'batch_size': 512, 'learning_rate': 0.01, 'num_epochs': 10, 'rerun': 2, 'activation': 'PReLU', 'normalization': 'LN'}\n",
      "Files already downloaded and verified\n",
      "Files already downloaded and verified\n"
     ]
    },
    {
     "name": "stderr",
     "output_type": "stream",
     "text": [
      "  0%|          | 0/10 [00:00<?, ?it/s]"
     ]
    },
    {
     "name": "stdout",
     "output_type": "stream",
     "text": [
      "Test Accuracy of the model on the 10000 test images: 10.10%\n"
     ]
    },
    {
     "name": "stderr",
     "output_type": "stream",
     "text": [
      " 10%|█         | 1/10 [00:08<01:16,  8.48s/it]"
     ]
    },
    {
     "name": "stdout",
     "output_type": "stream",
     "text": [
      "Epoch [2/10], Train Loss: 1.6555\n",
      "Test Accuracy of the model on the 10000 test images: 40.61%\n"
     ]
    },
    {
     "name": "stderr",
     "output_type": "stream",
     "text": [
      " 20%|██        | 2/10 [00:23<01:40, 12.57s/it]"
     ]
    },
    {
     "name": "stdout",
     "output_type": "stream",
     "text": [
      "Epoch [3/10], Train Loss: 1.4454\n",
      "Test Accuracy of the model on the 10000 test images: 42.60%\n"
     ]
    },
    {
     "name": "stderr",
     "output_type": "stream",
     "text": [
      " 30%|███       | 3/10 [00:39<01:36, 13.79s/it]"
     ]
    },
    {
     "name": "stdout",
     "output_type": "stream",
     "text": [
      "Epoch [4/10], Train Loss: 1.2653\n",
      "Test Accuracy of the model on the 10000 test images: 44.92%\n"
     ]
    },
    {
     "name": "stderr",
     "output_type": "stream",
     "text": [
      " 40%|████      | 4/10 [00:54<01:26, 14.36s/it]"
     ]
    },
    {
     "name": "stdout",
     "output_type": "stream",
     "text": [
      "Epoch [5/10], Train Loss: 1.2705\n",
      "Test Accuracy of the model on the 10000 test images: 45.37%\n"
     ]
    },
    {
     "name": "stderr",
     "output_type": "stream",
     "text": [
      " 50%|█████     | 5/10 [01:11<01:17, 15.43s/it]"
     ]
    },
    {
     "name": "stdout",
     "output_type": "stream",
     "text": [
      "Epoch [6/10], Train Loss: 0.9165\n",
      "Test Accuracy of the model on the 10000 test images: 45.84%\n"
     ]
    },
    {
     "name": "stderr",
     "output_type": "stream",
     "text": [
      " 60%|██████    | 6/10 [01:32<01:08, 17.16s/it]"
     ]
    },
    {
     "name": "stdout",
     "output_type": "stream",
     "text": [
      "Epoch [7/10], Train Loss: 0.8565\n",
      "Test Accuracy of the model on the 10000 test images: 44.78%\n"
     ]
    },
    {
     "name": "stderr",
     "output_type": "stream",
     "text": [
      " 70%|███████   | 7/10 [01:47<00:49, 16.51s/it]"
     ]
    },
    {
     "name": "stdout",
     "output_type": "stream",
     "text": [
      "Epoch [8/10], Train Loss: 0.6043\n",
      "Test Accuracy of the model on the 10000 test images: 45.20%\n"
     ]
    },
    {
     "name": "stderr",
     "output_type": "stream",
     "text": [
      " 80%|████████  | 8/10 [02:02<00:32, 16.06s/it]"
     ]
    },
    {
     "name": "stdout",
     "output_type": "stream",
     "text": [
      "Epoch [9/10], Train Loss: 0.4518\n",
      "Test Accuracy of the model on the 10000 test images: 44.59%\n"
     ]
    },
    {
     "name": "stderr",
     "output_type": "stream",
     "text": [
      " 90%|█████████ | 9/10 [02:17<00:15, 15.81s/it]"
     ]
    },
    {
     "name": "stdout",
     "output_type": "stream",
     "text": [
      "Epoch [10/10], Train Loss: 0.2836\n",
      "Test Accuracy of the model on the 10000 test images: 45.27%\n"
     ]
    },
    {
     "name": "stderr",
     "output_type": "stream",
     "text": [
      "100%|██████████| 10/10 [02:32<00:00, 15.29s/it]\n"
     ]
    },
    {
     "name": "stdout",
     "output_type": "stream",
     "text": [
      "Running experiment for config: {'model': 'MLP', 'dataset': 'CIFAR10', 'hidden_sizes': [1000, 1000, 1000, 1000, 1000, 1000, 1000, 1000, 1000, 1000], 'batch_size': 512, 'learning_rate': 0.01, 'num_epochs': 10, 'rerun': 2, 'activation': 'Tanh', 'normalization': 'LN'}\n",
      "Files already downloaded and verified\n",
      "Files already downloaded and verified\n"
     ]
    },
    {
     "name": "stderr",
     "output_type": "stream",
     "text": [
      "  0%|          | 0/10 [00:00<?, ?it/s]"
     ]
    },
    {
     "name": "stdout",
     "output_type": "stream",
     "text": [
      "Test Accuracy of the model on the 10000 test images: 9.70%\n"
     ]
    },
    {
     "name": "stderr",
     "output_type": "stream",
     "text": [
      " 10%|█         | 1/10 [00:08<01:16,  8.51s/it]"
     ]
    },
    {
     "name": "stdout",
     "output_type": "stream",
     "text": [
      "Epoch [2/10], Train Loss: 1.7976\n",
      "Test Accuracy of the model on the 10000 test images: 36.11%\n"
     ]
    },
    {
     "name": "stderr",
     "output_type": "stream",
     "text": [
      " 20%|██        | 2/10 [00:23<01:39, 12.45s/it]"
     ]
    },
    {
     "name": "stdout",
     "output_type": "stream",
     "text": [
      "Epoch [3/10], Train Loss: 1.5446\n",
      "Test Accuracy of the model on the 10000 test images: 39.43%\n"
     ]
    },
    {
     "name": "stderr",
     "output_type": "stream",
     "text": [
      " 30%|███       | 3/10 [00:39<01:36, 13.76s/it]"
     ]
    },
    {
     "name": "stdout",
     "output_type": "stream",
     "text": [
      "Epoch [4/10], Train Loss: 1.4153\n",
      "Test Accuracy of the model on the 10000 test images: 40.08%\n"
     ]
    },
    {
     "name": "stderr",
     "output_type": "stream",
     "text": [
      " 40%|████      | 4/10 [00:54<01:26, 14.40s/it]"
     ]
    },
    {
     "name": "stdout",
     "output_type": "stream",
     "text": [
      "Epoch [5/10], Train Loss: 1.2479\n",
      "Test Accuracy of the model on the 10000 test images: 40.65%\n"
     ]
    },
    {
     "name": "stderr",
     "output_type": "stream",
     "text": [
      " 50%|█████     | 5/10 [01:09<01:13, 14.73s/it]"
     ]
    },
    {
     "name": "stdout",
     "output_type": "stream",
     "text": [
      "Epoch [6/10], Train Loss: 1.1956\n",
      "Test Accuracy of the model on the 10000 test images: 40.17%\n"
     ]
    },
    {
     "name": "stderr",
     "output_type": "stream",
     "text": [
      " 60%|██████    | 6/10 [01:24<00:59, 14.88s/it]"
     ]
    },
    {
     "name": "stdout",
     "output_type": "stream",
     "text": [
      "Epoch [7/10], Train Loss: 1.0753\n",
      "Test Accuracy of the model on the 10000 test images: 39.90%\n"
     ]
    },
    {
     "name": "stderr",
     "output_type": "stream",
     "text": [
      " 70%|███████   | 7/10 [01:40<00:44, 14.96s/it]"
     ]
    },
    {
     "name": "stdout",
     "output_type": "stream",
     "text": [
      "Epoch [8/10], Train Loss: 0.7909\n",
      "Test Accuracy of the model on the 10000 test images: 40.67%\n"
     ]
    },
    {
     "name": "stderr",
     "output_type": "stream",
     "text": [
      " 80%|████████  | 8/10 [01:55<00:30, 15.05s/it]"
     ]
    },
    {
     "name": "stdout",
     "output_type": "stream",
     "text": [
      "Epoch [9/10], Train Loss: 0.7326\n",
      "Test Accuracy of the model on the 10000 test images: 38.76%\n"
     ]
    },
    {
     "name": "stderr",
     "output_type": "stream",
     "text": [
      " 90%|█████████ | 9/10 [02:10<00:15, 15.07s/it]"
     ]
    },
    {
     "name": "stdout",
     "output_type": "stream",
     "text": [
      "Epoch [10/10], Train Loss: 0.6208\n",
      "Test Accuracy of the model on the 10000 test images: 40.86%\n"
     ]
    },
    {
     "name": "stderr",
     "output_type": "stream",
     "text": [
      "100%|██████████| 10/10 [02:25<00:00, 14.55s/it]\n"
     ]
    },
    {
     "name": "stdout",
     "output_type": "stream",
     "text": [
      "Running experiment for config: {'model': 'MLP', 'dataset': 'CIFAR10', 'hidden_sizes': [1000, 1000, 1000, 1000, 1000, 1000, 1000, 1000, 1000, 1000], 'batch_size': 512, 'learning_rate': 0.01, 'num_epochs': 10, 'rerun': 2, 'activation': 'SELU', 'normalization': 'LN'}\n",
      "Files already downloaded and verified\n",
      "Files already downloaded and verified\n"
     ]
    },
    {
     "name": "stderr",
     "output_type": "stream",
     "text": [
      "  0%|          | 0/10 [00:00<?, ?it/s]"
     ]
    },
    {
     "name": "stdout",
     "output_type": "stream",
     "text": [
      "Test Accuracy of the model on the 10000 test images: 10.13%\n"
     ]
    },
    {
     "name": "stderr",
     "output_type": "stream",
     "text": [
      " 10%|█         | 1/10 [00:08<01:19,  8.83s/it]"
     ]
    },
    {
     "name": "stdout",
     "output_type": "stream",
     "text": [
      "Epoch [2/10], Train Loss: 1.7058\n",
      "Test Accuracy of the model on the 10000 test images: 40.84%\n"
     ]
    },
    {
     "name": "stderr",
     "output_type": "stream",
     "text": [
      " 20%|██        | 2/10 [00:24<01:42, 12.85s/it]"
     ]
    },
    {
     "name": "stdout",
     "output_type": "stream",
     "text": [
      "Epoch [3/10], Train Loss: 1.6050\n",
      "Test Accuracy of the model on the 10000 test images: 44.20%\n"
     ]
    },
    {
     "name": "stderr",
     "output_type": "stream",
     "text": [
      " 30%|███       | 3/10 [00:40<01:38, 14.08s/it]"
     ]
    },
    {
     "name": "stdout",
     "output_type": "stream",
     "text": [
      "Epoch [4/10], Train Loss: 1.3690\n",
      "Test Accuracy of the model on the 10000 test images: 46.52%\n"
     ]
    },
    {
     "name": "stderr",
     "output_type": "stream",
     "text": [
      " 40%|████      | 4/10 [00:55<01:28, 14.69s/it]"
     ]
    },
    {
     "name": "stdout",
     "output_type": "stream",
     "text": [
      "Epoch [5/10], Train Loss: 1.2516\n",
      "Test Accuracy of the model on the 10000 test images: 46.64%\n"
     ]
    },
    {
     "name": "stderr",
     "output_type": "stream",
     "text": [
      " 50%|█████     | 5/10 [01:11<01:14, 14.99s/it]"
     ]
    },
    {
     "name": "stdout",
     "output_type": "stream",
     "text": [
      "Epoch [6/10], Train Loss: 1.3112\n",
      "Test Accuracy of the model on the 10000 test images: 47.99%\n"
     ]
    },
    {
     "name": "stderr",
     "output_type": "stream",
     "text": [
      " 60%|██████    | 6/10 [01:27<01:01, 15.27s/it]"
     ]
    },
    {
     "name": "stdout",
     "output_type": "stream",
     "text": [
      "Epoch [7/10], Train Loss: 1.2291\n",
      "Test Accuracy of the model on the 10000 test images: 47.69%\n"
     ]
    },
    {
     "name": "stderr",
     "output_type": "stream",
     "text": [
      " 70%|███████   | 7/10 [01:42<00:46, 15.38s/it]"
     ]
    },
    {
     "name": "stdout",
     "output_type": "stream",
     "text": [
      "Epoch [8/10], Train Loss: 1.1929\n",
      "Test Accuracy of the model on the 10000 test images: 47.76%\n"
     ]
    },
    {
     "name": "stderr",
     "output_type": "stream",
     "text": [
      " 80%|████████  | 8/10 [01:58<00:30, 15.45s/it]"
     ]
    },
    {
     "name": "stdout",
     "output_type": "stream",
     "text": [
      "Epoch [9/10], Train Loss: 1.1125\n",
      "Test Accuracy of the model on the 10000 test images: 48.45%\n"
     ]
    },
    {
     "name": "stderr",
     "output_type": "stream",
     "text": [
      " 90%|█████████ | 9/10 [02:13<00:15, 15.50s/it]"
     ]
    },
    {
     "name": "stdout",
     "output_type": "stream",
     "text": [
      "Epoch [10/10], Train Loss: 1.0409\n",
      "Test Accuracy of the model on the 10000 test images: 48.16%\n"
     ]
    },
    {
     "name": "stderr",
     "output_type": "stream",
     "text": [
      "100%|██████████| 10/10 [02:29<00:00, 14.94s/it]\n"
     ]
    },
    {
     "name": "stdout",
     "output_type": "stream",
     "text": [
      "Running experiment for config: {'model': 'MLP', 'dataset': 'CIFAR10', 'hidden_sizes': [1000, 1000, 1000, 1000, 1000, 1000, 1000, 1000, 1000, 1000], 'batch_size': 512, 'learning_rate': 0.01, 'num_epochs': 10, 'rerun': 2, 'activation': 'SiLU', 'normalization': 'LN'}\n",
      "Files already downloaded and verified\n",
      "Files already downloaded and verified\n"
     ]
    },
    {
     "name": "stderr",
     "output_type": "stream",
     "text": [
      "  0%|          | 0/10 [00:00<?, ?it/s]"
     ]
    },
    {
     "name": "stdout",
     "output_type": "stream",
     "text": [
      "Test Accuracy of the model on the 10000 test images: 10.58%\n"
     ]
    },
    {
     "name": "stderr",
     "output_type": "stream",
     "text": [
      " 10%|█         | 1/10 [00:08<01:15,  8.35s/it]"
     ]
    },
    {
     "name": "stdout",
     "output_type": "stream",
     "text": [
      "Epoch [2/10], Train Loss: 1.7981\n",
      "Test Accuracy of the model on the 10000 test images: 38.50%\n"
     ]
    },
    {
     "name": "stderr",
     "output_type": "stream",
     "text": [
      " 20%|██        | 2/10 [00:23<01:38, 12.31s/it]"
     ]
    },
    {
     "name": "stdout",
     "output_type": "stream",
     "text": [
      "Epoch [3/10], Train Loss: 1.5027\n",
      "Test Accuracy of the model on the 10000 test images: 40.54%\n"
     ]
    },
    {
     "name": "stderr",
     "output_type": "stream",
     "text": [
      " 30%|███       | 3/10 [00:38<01:34, 13.52s/it]"
     ]
    },
    {
     "name": "stdout",
     "output_type": "stream",
     "text": [
      "Epoch [4/10], Train Loss: 1.1668\n",
      "Test Accuracy of the model on the 10000 test images: 42.80%\n"
     ]
    },
    {
     "name": "stderr",
     "output_type": "stream",
     "text": [
      " 40%|████      | 4/10 [00:53<01:25, 14.19s/it]"
     ]
    },
    {
     "name": "stdout",
     "output_type": "stream",
     "text": [
      "Epoch [5/10], Train Loss: 0.9624\n",
      "Test Accuracy of the model on the 10000 test images: 42.80%\n"
     ]
    },
    {
     "name": "stderr",
     "output_type": "stream",
     "text": [
      " 50%|█████     | 5/10 [01:08<01:12, 14.55s/it]"
     ]
    },
    {
     "name": "stdout",
     "output_type": "stream",
     "text": [
      "Epoch [6/10], Train Loss: 0.7721\n",
      "Test Accuracy of the model on the 10000 test images: 43.76%\n"
     ]
    },
    {
     "name": "stderr",
     "output_type": "stream",
     "text": [
      " 60%|██████    | 6/10 [01:23<00:58, 14.72s/it]"
     ]
    },
    {
     "name": "stdout",
     "output_type": "stream",
     "text": [
      "Epoch [7/10], Train Loss: 0.5810\n",
      "Test Accuracy of the model on the 10000 test images: 43.28%\n"
     ]
    },
    {
     "name": "stderr",
     "output_type": "stream",
     "text": [
      " 70%|███████   | 7/10 [01:38<00:44, 14.81s/it]"
     ]
    },
    {
     "name": "stdout",
     "output_type": "stream",
     "text": [
      "Epoch [8/10], Train Loss: 0.4704\n",
      "Test Accuracy of the model on the 10000 test images: 43.32%\n"
     ]
    },
    {
     "name": "stderr",
     "output_type": "stream",
     "text": [
      " 80%|████████  | 8/10 [01:53<00:29, 14.87s/it]"
     ]
    },
    {
     "name": "stdout",
     "output_type": "stream",
     "text": [
      "Epoch [9/10], Train Loss: 0.3310\n",
      "Test Accuracy of the model on the 10000 test images: 43.35%\n"
     ]
    },
    {
     "name": "stderr",
     "output_type": "stream",
     "text": [
      " 90%|█████████ | 9/10 [02:09<00:14, 14.97s/it]"
     ]
    },
    {
     "name": "stdout",
     "output_type": "stream",
     "text": [
      "Epoch [10/10], Train Loss: 0.1972\n",
      "Test Accuracy of the model on the 10000 test images: 43.36%\n"
     ]
    },
    {
     "name": "stderr",
     "output_type": "stream",
     "text": [
      "100%|██████████| 10/10 [02:24<00:00, 14.41s/it]\n"
     ]
    },
    {
     "name": "stdout",
     "output_type": "stream",
     "text": [
      "Running experiment for config: {'model': 'MLP', 'dataset': 'CIFAR10', 'hidden_sizes': [1000, 1000, 1000, 1000, 1000, 1000, 1000, 1000, 1000, 1000], 'batch_size': 512, 'learning_rate': 0.01, 'num_epochs': 10, 'rerun': 2, 'activation': 'ELU', 'normalization': 'LN'}\n",
      "Files already downloaded and verified\n",
      "Files already downloaded and verified\n"
     ]
    },
    {
     "name": "stderr",
     "output_type": "stream",
     "text": [
      "  0%|          | 0/10 [00:00<?, ?it/s]"
     ]
    },
    {
     "name": "stdout",
     "output_type": "stream",
     "text": [
      "Test Accuracy of the model on the 10000 test images: 9.26%\n"
     ]
    },
    {
     "name": "stderr",
     "output_type": "stream",
     "text": [
      " 10%|█         | 1/10 [00:08<01:18,  8.67s/it]"
     ]
    },
    {
     "name": "stdout",
     "output_type": "stream",
     "text": [
      "Epoch [2/10], Train Loss: 1.6164\n",
      "Test Accuracy of the model on the 10000 test images: 41.81%\n"
     ]
    },
    {
     "name": "stderr",
     "output_type": "stream",
     "text": [
      " 20%|██        | 2/10 [00:24<01:41, 12.71s/it]"
     ]
    },
    {
     "name": "stdout",
     "output_type": "stream",
     "text": [
      "Epoch [3/10], Train Loss: 1.3866\n",
      "Test Accuracy of the model on the 10000 test images: 44.83%\n"
     ]
    },
    {
     "name": "stderr",
     "output_type": "stream",
     "text": [
      " 30%|███       | 3/10 [00:39<01:37, 13.93s/it]"
     ]
    },
    {
     "name": "stdout",
     "output_type": "stream",
     "text": [
      "Epoch [4/10], Train Loss: 1.4395\n",
      "Test Accuracy of the model on the 10000 test images: 46.77%\n"
     ]
    },
    {
     "name": "stderr",
     "output_type": "stream",
     "text": [
      " 40%|████      | 4/10 [00:54<01:26, 14.48s/it]"
     ]
    },
    {
     "name": "stdout",
     "output_type": "stream",
     "text": [
      "Epoch [5/10], Train Loss: 1.3140\n",
      "Test Accuracy of the model on the 10000 test images: 47.50%\n"
     ]
    },
    {
     "name": "stderr",
     "output_type": "stream",
     "text": [
      " 50%|█████     | 5/10 [01:10<01:13, 14.75s/it]"
     ]
    },
    {
     "name": "stdout",
     "output_type": "stream",
     "text": [
      "Epoch [6/10], Train Loss: 1.1534\n",
      "Test Accuracy of the model on the 10000 test images: 49.19%\n"
     ]
    },
    {
     "name": "stderr",
     "output_type": "stream",
     "text": [
      " 60%|██████    | 6/10 [01:25<00:59, 14.96s/it]"
     ]
    },
    {
     "name": "stdout",
     "output_type": "stream",
     "text": [
      "Epoch [7/10], Train Loss: 0.9990\n",
      "Test Accuracy of the model on the 10000 test images: 49.32%\n"
     ]
    },
    {
     "name": "stderr",
     "output_type": "stream",
     "text": [
      " 70%|███████   | 7/10 [01:40<00:45, 15.06s/it]"
     ]
    },
    {
     "name": "stdout",
     "output_type": "stream",
     "text": [
      "Epoch [8/10], Train Loss: 1.0598\n",
      "Test Accuracy of the model on the 10000 test images: 49.13%\n"
     ]
    },
    {
     "name": "stderr",
     "output_type": "stream",
     "text": [
      " 80%|████████  | 8/10 [01:56<00:30, 15.12s/it]"
     ]
    },
    {
     "name": "stdout",
     "output_type": "stream",
     "text": [
      "Epoch [9/10], Train Loss: 0.8321\n",
      "Test Accuracy of the model on the 10000 test images: 49.40%\n"
     ]
    },
    {
     "name": "stderr",
     "output_type": "stream",
     "text": [
      " 90%|█████████ | 9/10 [02:11<00:15, 15.18s/it]"
     ]
    },
    {
     "name": "stdout",
     "output_type": "stream",
     "text": [
      "Epoch [10/10], Train Loss: 0.8669\n",
      "Test Accuracy of the model on the 10000 test images: 48.20%\n"
     ]
    },
    {
     "name": "stderr",
     "output_type": "stream",
     "text": [
      "100%|██████████| 10/10 [02:26<00:00, 14.69s/it]\n"
     ]
    },
    {
     "name": "stdout",
     "output_type": "stream",
     "text": [
      "Running experiment for config: {'model': 'MLP', 'dataset': 'CIFAR10', 'hidden_sizes': [1000, 1000, 1000, 1000, 1000, 1000, 1000, 1000, 1000, 1000], 'batch_size': 512, 'learning_rate': 0.01, 'num_epochs': 10, 'rerun': 2, 'activation': 'GELU', 'normalization': 'LN'}\n",
      "Files already downloaded and verified\n",
      "Files already downloaded and verified\n"
     ]
    },
    {
     "name": "stderr",
     "output_type": "stream",
     "text": [
      "  0%|          | 0/10 [00:00<?, ?it/s]"
     ]
    },
    {
     "name": "stdout",
     "output_type": "stream",
     "text": [
      "Test Accuracy of the model on the 10000 test images: 10.30%\n"
     ]
    },
    {
     "name": "stderr",
     "output_type": "stream",
     "text": [
      " 10%|█         | 1/10 [00:08<01:14,  8.24s/it]"
     ]
    },
    {
     "name": "stdout",
     "output_type": "stream",
     "text": [
      "Epoch [2/10], Train Loss: 1.9507\n",
      "Test Accuracy of the model on the 10000 test images: 34.19%\n"
     ]
    },
    {
     "name": "stderr",
     "output_type": "stream",
     "text": [
      " 20%|██        | 2/10 [00:23<01:37, 12.13s/it]"
     ]
    },
    {
     "name": "stdout",
     "output_type": "stream",
     "text": [
      "Epoch [3/10], Train Loss: 1.4068\n",
      "Test Accuracy of the model on the 10000 test images: 36.61%\n"
     ]
    },
    {
     "name": "stderr",
     "output_type": "stream",
     "text": [
      " 30%|███       | 3/10 [00:38<01:34, 13.44s/it]"
     ]
    },
    {
     "name": "stdout",
     "output_type": "stream",
     "text": [
      "Epoch [4/10], Train Loss: 1.0742\n",
      "Test Accuracy of the model on the 10000 test images: 37.45%\n"
     ]
    },
    {
     "name": "stderr",
     "output_type": "stream",
     "text": [
      " 40%|████      | 4/10 [00:53<01:24, 14.04s/it]"
     ]
    },
    {
     "name": "stdout",
     "output_type": "stream",
     "text": [
      "Epoch [5/10], Train Loss: 0.8393\n",
      "Test Accuracy of the model on the 10000 test images: 37.48%\n"
     ]
    },
    {
     "name": "stderr",
     "output_type": "stream",
     "text": [
      " 50%|█████     | 5/10 [01:08<01:11, 14.39s/it]"
     ]
    },
    {
     "name": "stdout",
     "output_type": "stream",
     "text": [
      "Epoch [6/10], Train Loss: 0.4948\n",
      "Test Accuracy of the model on the 10000 test images: 37.71%\n"
     ]
    },
    {
     "name": "stderr",
     "output_type": "stream",
     "text": [
      " 60%|██████    | 6/10 [01:23<00:58, 14.59s/it]"
     ]
    },
    {
     "name": "stdout",
     "output_type": "stream",
     "text": [
      "Epoch [7/10], Train Loss: 0.4043\n",
      "Test Accuracy of the model on the 10000 test images: 37.34%\n"
     ]
    },
    {
     "name": "stderr",
     "output_type": "stream",
     "text": [
      " 70%|███████   | 7/10 [01:38<00:44, 14.75s/it]"
     ]
    },
    {
     "name": "stdout",
     "output_type": "stream",
     "text": [
      "Epoch [8/10], Train Loss: 0.2700\n",
      "Test Accuracy of the model on the 10000 test images: 37.03%\n"
     ]
    },
    {
     "name": "stderr",
     "output_type": "stream",
     "text": [
      " 80%|████████  | 8/10 [01:53<00:29, 14.91s/it]"
     ]
    },
    {
     "name": "stdout",
     "output_type": "stream",
     "text": [
      "Epoch [9/10], Train Loss: 0.1514\n",
      "Test Accuracy of the model on the 10000 test images: 37.47%\n"
     ]
    },
    {
     "name": "stderr",
     "output_type": "stream",
     "text": [
      " 90%|█████████ | 9/10 [02:08<00:14, 14.99s/it]"
     ]
    },
    {
     "name": "stdout",
     "output_type": "stream",
     "text": [
      "Epoch [10/10], Train Loss: 0.1199\n",
      "Test Accuracy of the model on the 10000 test images: 37.64%\n"
     ]
    },
    {
     "name": "stderr",
     "output_type": "stream",
     "text": [
      "100%|██████████| 10/10 [02:23<00:00, 14.37s/it]\n"
     ]
    },
    {
     "data": {
      "image/png": "[encoded data removed]",
      "text/plain": [
       "<Figure size 640x480 with 1 Axes>"
      ]
     },
     "metadata": {},
     "output_type": "display_data"
    }
   ],
   "source": [
    "# Define the config grid with lists of possible values for each parameter\n",
    "config_grid = {\n",
    "    'model': ['MLP'],\n",
    "    'dataset': ['CIFAR10',],\n",
    "    'hidden_sizes': [[1000]*10],\n",
    "    'batch_size': [512],\n",
    "    'learning_rate': [0.01,],\n",
    "    'num_epochs': [10],\n",
    "    'rerun': range(3),\n",
    "    'activation': [\"ReLU\", \"Identity\",\"PReLU\", \"Tanh\", \"SELU\",\"SiLU\", \"ELU\", \"GELU\"],\n",
    "    'normalization': [\"LN\",],\n",
    "}\n",
    "\n",
    "\n",
    "final_results_df = run_experiment_grid(config_grid)\n",
    "df = final_results_df\n",
    "df = df.loc[df.stage=='test']\n",
    "\n",
    "\n",
    "sns.lineplot(df, x='beta', y='best_loss', hue='dataset')\n",
    "plt.show()"
   ]
  },
  {
   "cell_type": "code",
   "execution_count": 28,
   "metadata": {},
   "outputs": [
    {
     "data": {
      "image/png": "[encoded data removed]",
      "text/plain": [
       "<Figure size 640x480 with 1 Axes>"
      ]
     },
     "metadata": {},
     "output_type": "display_data"
    }
   ],
   "source": [
    "sns.lineplot(df, x='epoch', y='loss', hue='activation')\n",
    "plt.show()"
   ]
  },
  {
   "cell_type": "code",
   "execution_count": 37,
   "metadata": {},
   "outputs": [
    {
     "name": "stderr",
     "output_type": "stream",
     "text": [
      "<ipython-input-37-416a3d52fc83>:5: FutureWarning: The default value of numeric_only in DataFrameGroupBy.median is deprecated. In a future version, numeric_only will default to False. Either specify numeric_only or select only columns which should be valid for the function.\n",
      "  sns.lineplot(df.groupby(['beta', 'best_loss', 'dataset']).median().reset_index(), x='beta', y='best_loss', hue='dataset')\n"
     ]
    },
    {
     "data": {
      "image/png": "[encoded data removed]",
      "text/plain": [
       "<Figure size 640x480 with 1 Axes>"
      ]
     },
     "metadata": {},
     "output_type": "display_data"
    }
   ],
   "source": [
    "df2 = df.groupby(['activation', 'dataset'])['loss'].min().reset_index()\n",
    "df2 = df2.rename(columns={'loss': 'best_loss'})\n",
    "df = df.merge(df2, on=['activation', 'dataset'])\n",
    "\n",
    "sns.lineplot(df.groupby(['beta', 'best_loss', 'dataset']).median().reset_index(), x='beta', y='best_loss', hue='dataset')\n",
    "plt.show()"
   ]
  },
  {
   "cell_type": "code",
   "execution_count": 31,
   "metadata": {},
   "outputs": [
    {
     "data": {
      "text/html": [
       "<div>\n",
       "<style scoped>\n",
       "    .dataframe tbody tr th:only-of-type {\n",
       "        vertical-align: middle;\n",
       "    }\n",
       "\n",
       "    .dataframe tbody tr th {\n",
       "        vertical-align: top;\n",
       "    }\n",
       "\n",
       "    .dataframe thead th {\n",
       "        text-align: right;\n",
       "    }\n",
       "</style>\n",
       "<table border=\"1\" class=\"dataframe\">\n",
       "  <thead>\n",
       "    <tr style=\"text-align: right;\">\n",
       "      <th></th>\n",
       "      <th>activation</th>\n",
       "      <th>dataset</th>\n",
       "      <th>best_loss</th>\n",
       "    </tr>\n",
       "  </thead>\n",
       "  <tbody>\n",
       "    <tr>\n",
       "      <th>0</th>\n",
       "      <td>ELU</td>\n",
       "      <td>CIFAR10</td>\n",
       "      <td>1.424544</td>\n",
       "    </tr>\n",
       "    <tr>\n",
       "      <th>1</th>\n",
       "      <td>GELU</td>\n",
       "      <td>CIFAR10</td>\n",
       "      <td>1.831653</td>\n",
       "    </tr>\n",
       "    <tr>\n",
       "      <th>2</th>\n",
       "      <td>Identity</td>\n",
       "      <td>CIFAR10</td>\n",
       "      <td>1.692156</td>\n",
       "    </tr>\n",
       "    <tr>\n",
       "      <th>3</th>\n",
       "      <td>PReLU</td>\n",
       "      <td>CIFAR10</td>\n",
       "      <td>1.549974</td>\n",
       "    </tr>\n",
       "    <tr>\n",
       "      <th>4</th>\n",
       "      <td>ReLU</td>\n",
       "      <td>CIFAR10</td>\n",
       "      <td>1.893809</td>\n",
       "    </tr>\n",
       "    <tr>\n",
       "      <th>5</th>\n",
       "      <td>SELU</td>\n",
       "      <td>CIFAR10</td>\n",
       "      <td>1.447915</td>\n",
       "    </tr>\n",
       "    <tr>\n",
       "      <th>6</th>\n",
       "      <td>SiLU</td>\n",
       "      <td>CIFAR10</td>\n",
       "      <td>1.595417</td>\n",
       "    </tr>\n",
       "    <tr>\n",
       "      <th>7</th>\n",
       "      <td>Tanh</td>\n",
       "      <td>CIFAR10</td>\n",
       "      <td>1.691959</td>\n",
       "    </tr>\n",
       "  </tbody>\n",
       "</table>\n",
       "</div>"
      ],
      "text/plain": [
       "  activation  dataset  best_loss\n",
       "0        ELU  CIFAR10   1.424544\n",
       "1       GELU  CIFAR10   1.831653\n",
       "2   Identity  CIFAR10   1.692156\n",
       "3      PReLU  CIFAR10   1.549974\n",
       "4       ReLU  CIFAR10   1.893809\n",
       "5       SELU  CIFAR10   1.447915\n",
       "6       SiLU  CIFAR10   1.595417\n",
       "7       Tanh  CIFAR10   1.691959"
      ]
     },
     "execution_count": 31,
     "metadata": {},
     "output_type": "execute_result"
    }
   ],
   "source": [
    "df2"
   ]
  },
  {
   "cell_type": "code",
   "execution_count": null,
   "metadata": {},
   "outputs": [],
   "source": []
  }
 ],
 "metadata": {
  "colab": {
   "provenance": []
  },
  "kernelspec": {
   "display_name": "Python 3",
   "language": "python",
   "name": "python3"
  },
  "language_info": {
   "codemirror_mode": {
    "name": "ipython",
    "version": 3
   },
   "file_extension": ".py",
   "mimetype": "text/x-python",
   "name": "python",
   "nbconvert_exporter": "python",
   "pygments_lexer": "ipython3",
   "version": "3.8.5"
  }
 },
 "nbformat": 4,
 "nbformat_minor": 4
}
